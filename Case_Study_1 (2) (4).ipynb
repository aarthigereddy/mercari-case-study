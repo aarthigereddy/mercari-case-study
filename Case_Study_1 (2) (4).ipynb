{
 "cells": [
  {
   "cell_type": "code",
   "execution_count": 1,
   "metadata": {
    "id": "1JwWH7y_ifs3"
   },
   "outputs": [],
   "source": [
    "%matplotlib inline\n",
    "import warnings\n",
    "warnings.filterwarnings(\"ignore\")\n",
    "\n",
    "import sqlite3\n",
    "import pandas as pd\n",
    "import numpy as np\n",
    "import nltk\n",
    "import string\n",
    "import matplotlib.pyplot as plt\n",
    "import seaborn as sns\n",
    "import nltk\n",
    "\n",
    "from sklearn.feature_extraction.text import TfidfTransformer\n",
    "from sklearn.feature_extraction.text import TfidfVectorizer\n",
    "\n",
    "from sklearn.feature_extraction.text import CountVectorizer\n",
    "from sklearn.metrics import confusion_matrix\n",
    "from sklearn import metrics\n",
    "from sklearn.metrics import roc_curve, auc\n",
    "from nltk.stem.porter import PorterStemmer\n",
    "\n",
    "import re\n",
    "# Tutorial about Python regular expressions: https://pymotw.com/2/re/\n",
    "import string\n",
    "from nltk.corpus import stopwords\n",
    "from nltk.stem import PorterStemmer\n",
    "from nltk.stem.wordnet import WordNetLemmatizer\n",
    "\n",
    "from gensim.models import Word2Vec\n",
    "from gensim.models import KeyedVectors\n",
    "import pickle\n",
    "\n",
    "from tqdm import tqdm\n",
    "import os\n",
    "\n",
    "import plotly \n",
    "import plotly.offline as offline\n",
    "import plotly.graph_objs as go\n",
    "from collections import Counter\n",
    "\n",
    "import os\n",
    "from scipy import sparse\n",
    "from scipy.sparse import csr_matrix\n",
    "\n",
    "from sklearn.decomposition import TruncatedSVD\n",
    "from sklearn.metrics.pairwise import cosine_similarity\n",
    "import random\n",
    "#from wordcloud import WordCloud\n",
    "import nltk\n",
    "from tqdm import tqdm\n",
    "warnings.filterwarnings(\"ignore\")\n",
    "\n",
    "#from mlxtend.classifier import StackingClassifier\n",
    "\n",
    "from sklearn import model_selection\n",
    "from sklearn.linear_model import LogisticRegression\n",
    "\n",
    "from sklearn.linear_model import LinearRegression, Ridge\n",
    "from sklearn.metrics import r2_score, mean_squared_error\n",
    "from sklearn.model_selection import GridSearchCV,RandomizedSearchCV"
   ]
  },
  {
   "cell_type": "code",
   "execution_count": 2,
   "metadata": {
    "id": "nn5xN8qTvqGu"
   },
   "outputs": [],
   "source": [
    "import pickle\n",
    "import numpy as np\n",
    "import pandas as pd\n",
    "from tqdm import tqdm\n",
    "import matplotlib.pyplot as plt"
   ]
  },
  {
   "cell_type": "code",
   "execution_count": 3,
   "metadata": {
    "id": "3hOpJH9htr7l"
   },
   "outputs": [
    {
     "data": {
      "text/html": [
       "<div>\n",
       "<style scoped>\n",
       "    .dataframe tbody tr th:only-of-type {\n",
       "        vertical-align: middle;\n",
       "    }\n",
       "\n",
       "    .dataframe tbody tr th {\n",
       "        vertical-align: top;\n",
       "    }\n",
       "\n",
       "    .dataframe thead th {\n",
       "        text-align: right;\n",
       "    }\n",
       "</style>\n",
       "<table border=\"1\" class=\"dataframe\">\n",
       "  <thead>\n",
       "    <tr style=\"text-align: right;\">\n",
       "      <th></th>\n",
       "      <th>train_id</th>\n",
       "      <th>name</th>\n",
       "      <th>item_condition_id</th>\n",
       "      <th>category_name</th>\n",
       "      <th>brand_name</th>\n",
       "      <th>price</th>\n",
       "      <th>shipping</th>\n",
       "      <th>item_description</th>\n",
       "    </tr>\n",
       "  </thead>\n",
       "  <tbody>\n",
       "    <tr>\n",
       "      <th>0</th>\n",
       "      <td>0</td>\n",
       "      <td>MLB Cincinnati Reds T Shirt Size XL</td>\n",
       "      <td>3</td>\n",
       "      <td>Men/Tops/T-shirts</td>\n",
       "      <td>NaN</td>\n",
       "      <td>10.0</td>\n",
       "      <td>1</td>\n",
       "      <td>No description yet</td>\n",
       "    </tr>\n",
       "    <tr>\n",
       "      <th>1</th>\n",
       "      <td>1</td>\n",
       "      <td>Razer BlackWidow Chroma Keyboard</td>\n",
       "      <td>3</td>\n",
       "      <td>Electronics/Computers &amp; Tablets/Components &amp; P...</td>\n",
       "      <td>Razer</td>\n",
       "      <td>52.0</td>\n",
       "      <td>0</td>\n",
       "      <td>This keyboard is in great condition and works ...</td>\n",
       "    </tr>\n",
       "    <tr>\n",
       "      <th>2</th>\n",
       "      <td>2</td>\n",
       "      <td>AVA-VIV Blouse</td>\n",
       "      <td>1</td>\n",
       "      <td>Women/Tops &amp; Blouses/Blouse</td>\n",
       "      <td>Target</td>\n",
       "      <td>10.0</td>\n",
       "      <td>1</td>\n",
       "      <td>Adorable top with a hint of lace and a key hol...</td>\n",
       "    </tr>\n",
       "    <tr>\n",
       "      <th>3</th>\n",
       "      <td>3</td>\n",
       "      <td>Leather Horse Statues</td>\n",
       "      <td>1</td>\n",
       "      <td>Home/Home Décor/Home Décor Accents</td>\n",
       "      <td>NaN</td>\n",
       "      <td>35.0</td>\n",
       "      <td>1</td>\n",
       "      <td>New with tags. Leather horses. Retail for [rm]...</td>\n",
       "    </tr>\n",
       "    <tr>\n",
       "      <th>4</th>\n",
       "      <td>4</td>\n",
       "      <td>24K GOLD plated rose</td>\n",
       "      <td>1</td>\n",
       "      <td>Women/Jewelry/Necklaces</td>\n",
       "      <td>NaN</td>\n",
       "      <td>44.0</td>\n",
       "      <td>0</td>\n",
       "      <td>Complete with certificate of authenticity</td>\n",
       "    </tr>\n",
       "  </tbody>\n",
       "</table>\n",
       "</div>"
      ],
      "text/plain": [
       "   train_id                                 name  item_condition_id  \\\n",
       "0         0  MLB Cincinnati Reds T Shirt Size XL                  3   \n",
       "1         1     Razer BlackWidow Chroma Keyboard                  3   \n",
       "2         2                       AVA-VIV Blouse                  1   \n",
       "3         3                Leather Horse Statues                  1   \n",
       "4         4                 24K GOLD plated rose                  1   \n",
       "\n",
       "                                       category_name brand_name  price  \\\n",
       "0                                  Men/Tops/T-shirts        NaN   10.0   \n",
       "1  Electronics/Computers & Tablets/Components & P...      Razer   52.0   \n",
       "2                        Women/Tops & Blouses/Blouse     Target   10.0   \n",
       "3                 Home/Home Décor/Home Décor Accents        NaN   35.0   \n",
       "4                            Women/Jewelry/Necklaces        NaN   44.0   \n",
       "\n",
       "   shipping                                   item_description  \n",
       "0         1                                 No description yet  \n",
       "1         0  This keyboard is in great condition and works ...  \n",
       "2         1  Adorable top with a hint of lace and a key hol...  \n",
       "3         1  New with tags. Leather horses. Retail for [rm]...  \n",
       "4         0          Complete with certificate of authenticity  "
      ]
     },
     "execution_count": 3,
     "metadata": {},
     "output_type": "execute_result"
    }
   ],
   "source": [
    "data=pd.read_csv('train.tsv', sep='\\t')\n",
    "x_test=pd.read_csv('test_stg2.tsv', sep='\\t')\n",
    "data.head()\n"
   ]
  },
  {
   "cell_type": "code",
   "execution_count": 4,
   "metadata": {},
   "outputs": [
    {
     "data": {
      "text/html": [
       "<div>\n",
       "<style scoped>\n",
       "    .dataframe tbody tr th:only-of-type {\n",
       "        vertical-align: middle;\n",
       "    }\n",
       "\n",
       "    .dataframe tbody tr th {\n",
       "        vertical-align: top;\n",
       "    }\n",
       "\n",
       "    .dataframe thead th {\n",
       "        text-align: right;\n",
       "    }\n",
       "</style>\n",
       "<table border=\"1\" class=\"dataframe\">\n",
       "  <thead>\n",
       "    <tr style=\"text-align: right;\">\n",
       "      <th></th>\n",
       "      <th>test_id</th>\n",
       "      <th>name</th>\n",
       "      <th>item_condition_id</th>\n",
       "      <th>category_name</th>\n",
       "      <th>brand_name</th>\n",
       "      <th>shipping</th>\n",
       "      <th>item_description</th>\n",
       "    </tr>\n",
       "  </thead>\n",
       "  <tbody>\n",
       "    <tr>\n",
       "      <th>0</th>\n",
       "      <td>0</td>\n",
       "      <td>Breast cancer \"I fight like a girl\" ring</td>\n",
       "      <td>1</td>\n",
       "      <td>Women/Jewelry/Rings</td>\n",
       "      <td>NaN</td>\n",
       "      <td>1</td>\n",
       "      <td>Size 7</td>\n",
       "    </tr>\n",
       "    <tr>\n",
       "      <th>1</th>\n",
       "      <td>1</td>\n",
       "      <td>25 pcs NEW 7.5\"x12\" Kraft Bubble Mailers</td>\n",
       "      <td>1</td>\n",
       "      <td>Other/Office supplies/Shipping Supplies</td>\n",
       "      <td>NaN</td>\n",
       "      <td>1</td>\n",
       "      <td>25 pcs NEW 7.5\"x12\" Kraft Bubble Mailers Lined...</td>\n",
       "    </tr>\n",
       "    <tr>\n",
       "      <th>2</th>\n",
       "      <td>2</td>\n",
       "      <td>Coach bag</td>\n",
       "      <td>1</td>\n",
       "      <td>Vintage &amp; Collectibles/Bags and Purses/Handbag</td>\n",
       "      <td>Coach</td>\n",
       "      <td>1</td>\n",
       "      <td>Brand new coach bag. Bought for [rm] at a Coac...</td>\n",
       "    </tr>\n",
       "    <tr>\n",
       "      <th>3</th>\n",
       "      <td>3</td>\n",
       "      <td>Floral Kimono</td>\n",
       "      <td>2</td>\n",
       "      <td>Women/Sweaters/Cardigan</td>\n",
       "      <td>NaN</td>\n",
       "      <td>0</td>\n",
       "      <td>-floral kimono -never worn -lightweight and pe...</td>\n",
       "    </tr>\n",
       "    <tr>\n",
       "      <th>4</th>\n",
       "      <td>4</td>\n",
       "      <td>Life after Death</td>\n",
       "      <td>3</td>\n",
       "      <td>Other/Books/Religion &amp; Spirituality</td>\n",
       "      <td>NaN</td>\n",
       "      <td>1</td>\n",
       "      <td>Rediscovering life after the loss of a loved o...</td>\n",
       "    </tr>\n",
       "    <tr>\n",
       "      <th>...</th>\n",
       "      <td>...</td>\n",
       "      <td>...</td>\n",
       "      <td>...</td>\n",
       "      <td>...</td>\n",
       "      <td>...</td>\n",
       "      <td>...</td>\n",
       "      <td>...</td>\n",
       "    </tr>\n",
       "    <tr>\n",
       "      <th>3460720</th>\n",
       "      <td>3460720</td>\n",
       "      <td>DARK SAMPLE BYE FOUNDATION MOISTURIZER</td>\n",
       "      <td>1</td>\n",
       "      <td>Beauty/Fragrance/Women</td>\n",
       "      <td>NaN</td>\n",
       "      <td>1</td>\n",
       "      <td>It cosmetics Bye Bye Foundation Full Coverage ...</td>\n",
       "    </tr>\n",
       "    <tr>\n",
       "      <th>3460721</th>\n",
       "      <td>3460721</td>\n",
       "      <td>bundle for @brandystash</td>\n",
       "      <td>2</td>\n",
       "      <td>Women/Pants/Other</td>\n",
       "      <td>NaN</td>\n",
       "      <td>1</td>\n",
       "      <td>♡2 pairs of omighty trackiez. one m and one s....</td>\n",
       "    </tr>\n",
       "    <tr>\n",
       "      <th>3460722</th>\n",
       "      <td>3460722</td>\n",
       "      <td>Toddler High-top Converse</td>\n",
       "      <td>3</td>\n",
       "      <td>Kids/Girls 0-24 Mos/Shoes</td>\n",
       "      <td>Nike</td>\n",
       "      <td>0</td>\n",
       "      <td>Size 5 (toddler). Pink high top converse shoes...</td>\n",
       "    </tr>\n",
       "    <tr>\n",
       "      <th>3460723</th>\n",
       "      <td>3460723</td>\n",
       "      <td>Yoga Sling Sandals</td>\n",
       "      <td>1</td>\n",
       "      <td>Women/Shoes/Sandals</td>\n",
       "      <td>Sanuk</td>\n",
       "      <td>1</td>\n",
       "      <td>super super comfy. i have a pair but ordered t...</td>\n",
       "    </tr>\n",
       "    <tr>\n",
       "      <th>3460724</th>\n",
       "      <td>3460724</td>\n",
       "      <td>Stylish ladies M/M insulated brown coat</td>\n",
       "      <td>3</td>\n",
       "      <td>Women/Coats &amp; Jackets/Other</td>\n",
       "      <td>NaN</td>\n",
       "      <td>1</td>\n",
       "      <td>100% Genuine leather and faux fur insulated co...</td>\n",
       "    </tr>\n",
       "  </tbody>\n",
       "</table>\n",
       "<p>3460725 rows × 7 columns</p>\n",
       "</div>"
      ],
      "text/plain": [
       "         test_id                                      name  item_condition_id  \\\n",
       "0              0  Breast cancer \"I fight like a girl\" ring                  1   \n",
       "1              1  25 pcs NEW 7.5\"x12\" Kraft Bubble Mailers                  1   \n",
       "2              2                                 Coach bag                  1   \n",
       "3              3                             Floral Kimono                  2   \n",
       "4              4                          Life after Death                  3   \n",
       "...          ...                                       ...                ...   \n",
       "3460720  3460720    DARK SAMPLE BYE FOUNDATION MOISTURIZER                  1   \n",
       "3460721  3460721                   bundle for @brandystash                  2   \n",
       "3460722  3460722                 Toddler High-top Converse                  3   \n",
       "3460723  3460723                        Yoga Sling Sandals                  1   \n",
       "3460724  3460724   Stylish ladies M/M insulated brown coat                  3   \n",
       "\n",
       "                                          category_name brand_name  shipping  \\\n",
       "0                                   Women/Jewelry/Rings        NaN         1   \n",
       "1               Other/Office supplies/Shipping Supplies        NaN         1   \n",
       "2        Vintage & Collectibles/Bags and Purses/Handbag      Coach         1   \n",
       "3                               Women/Sweaters/Cardigan        NaN         0   \n",
       "4                   Other/Books/Religion & Spirituality        NaN         1   \n",
       "...                                                 ...        ...       ...   \n",
       "3460720                          Beauty/Fragrance/Women        NaN         1   \n",
       "3460721                               Women/Pants/Other        NaN         1   \n",
       "3460722                       Kids/Girls 0-24 Mos/Shoes       Nike         0   \n",
       "3460723                             Women/Shoes/Sandals      Sanuk         1   \n",
       "3460724                     Women/Coats & Jackets/Other        NaN         1   \n",
       "\n",
       "                                          item_description  \n",
       "0                                                   Size 7  \n",
       "1        25 pcs NEW 7.5\"x12\" Kraft Bubble Mailers Lined...  \n",
       "2        Brand new coach bag. Bought for [rm] at a Coac...  \n",
       "3        -floral kimono -never worn -lightweight and pe...  \n",
       "4        Rediscovering life after the loss of a loved o...  \n",
       "...                                                    ...  \n",
       "3460720  It cosmetics Bye Bye Foundation Full Coverage ...  \n",
       "3460721  ♡2 pairs of omighty trackiez. one m and one s....  \n",
       "3460722  Size 5 (toddler). Pink high top converse shoes...  \n",
       "3460723  super super comfy. i have a pair but ordered t...  \n",
       "3460724  100% Genuine leather and faux fur insulated co...  \n",
       "\n",
       "[3460725 rows x 7 columns]"
      ]
     },
     "execution_count": 4,
     "metadata": {},
     "output_type": "execute_result"
    }
   ],
   "source": [
    "x_test"
   ]
  },
  {
   "cell_type": "code",
   "execution_count": 5,
   "metadata": {
    "id": "iulMFzS-YwGU"
   },
   "outputs": [
    {
     "data": {
      "text/html": [
       "<div>\n",
       "<style scoped>\n",
       "    .dataframe tbody tr th:only-of-type {\n",
       "        vertical-align: middle;\n",
       "    }\n",
       "\n",
       "    .dataframe tbody tr th {\n",
       "        vertical-align: top;\n",
       "    }\n",
       "\n",
       "    .dataframe thead th {\n",
       "        text-align: right;\n",
       "    }\n",
       "</style>\n",
       "<table border=\"1\" class=\"dataframe\">\n",
       "  <thead>\n",
       "    <tr style=\"text-align: right;\">\n",
       "      <th></th>\n",
       "      <th>test_id</th>\n",
       "    </tr>\n",
       "  </thead>\n",
       "  <tbody>\n",
       "    <tr>\n",
       "      <th>0</th>\n",
       "      <td>0</td>\n",
       "    </tr>\n",
       "    <tr>\n",
       "      <th>1</th>\n",
       "      <td>1</td>\n",
       "    </tr>\n",
       "    <tr>\n",
       "      <th>2</th>\n",
       "      <td>2</td>\n",
       "    </tr>\n",
       "    <tr>\n",
       "      <th>3</th>\n",
       "      <td>3</td>\n",
       "    </tr>\n",
       "    <tr>\n",
       "      <th>4</th>\n",
       "      <td>4</td>\n",
       "    </tr>\n",
       "  </tbody>\n",
       "</table>\n",
       "</div>"
      ],
      "text/plain": [
       "   test_id\n",
       "0        0\n",
       "1        1\n",
       "2        2\n",
       "3        3\n",
       "4        4"
      ]
     },
     "execution_count": 5,
     "metadata": {},
     "output_type": "execute_result"
    }
   ],
   "source": [
    "submission_final= pd.DataFrame(x_test['test_id'])\n",
    "submission_final.head(5)"
   ]
  },
  {
   "cell_type": "code",
   "execution_count": 6,
   "metadata": {
    "id": "LSjr_mgcDc6p"
   },
   "outputs": [
    {
     "name": "stdout",
     "output_type": "stream",
     "text": [
      "<class 'pandas.core.frame.DataFrame'>\n",
      "RangeIndex: 1482535 entries, 0 to 1482534\n",
      "Data columns (total 8 columns):\n",
      " #   Column             Non-Null Count    Dtype  \n",
      "---  ------             --------------    -----  \n",
      " 0   train_id           1482535 non-null  int64  \n",
      " 1   name               1482535 non-null  object \n",
      " 2   item_condition_id  1482535 non-null  int64  \n",
      " 3   category_name      1476208 non-null  object \n",
      " 4   brand_name         849853 non-null   object \n",
      " 5   price              1482535 non-null  float64\n",
      " 6   shipping           1482535 non-null  int64  \n",
      " 7   item_description   1482531 non-null  object \n",
      "dtypes: float64(1), int64(3), object(4)\n",
      "memory usage: 90.5+ MB\n"
     ]
    }
   ],
   "source": [
    "data.info()"
   ]
  },
  {
   "cell_type": "code",
   "execution_count": 7,
   "metadata": {
    "id": "kxoyyXoxjNd4"
   },
   "outputs": [
    {
     "data": {
      "text/html": [
       "<div>\n",
       "<style scoped>\n",
       "    .dataframe tbody tr th:only-of-type {\n",
       "        vertical-align: middle;\n",
       "    }\n",
       "\n",
       "    .dataframe tbody tr th {\n",
       "        vertical-align: top;\n",
       "    }\n",
       "\n",
       "    .dataframe thead th {\n",
       "        text-align: right;\n",
       "    }\n",
       "</style>\n",
       "<table border=\"1\" class=\"dataframe\">\n",
       "  <thead>\n",
       "    <tr style=\"text-align: right;\">\n",
       "      <th></th>\n",
       "      <th>train_id</th>\n",
       "      <th>item_condition_id</th>\n",
       "      <th>price</th>\n",
       "      <th>shipping</th>\n",
       "    </tr>\n",
       "  </thead>\n",
       "  <tbody>\n",
       "    <tr>\n",
       "      <th>count</th>\n",
       "      <td>1.482535e+06</td>\n",
       "      <td>1.482535e+06</td>\n",
       "      <td>1.482535e+06</td>\n",
       "      <td>1.482535e+06</td>\n",
       "    </tr>\n",
       "    <tr>\n",
       "      <th>mean</th>\n",
       "      <td>7.412670e+05</td>\n",
       "      <td>1.907380e+00</td>\n",
       "      <td>2.673752e+01</td>\n",
       "      <td>4.472744e-01</td>\n",
       "    </tr>\n",
       "    <tr>\n",
       "      <th>std</th>\n",
       "      <td>4.279711e+05</td>\n",
       "      <td>9.031586e-01</td>\n",
       "      <td>3.858607e+01</td>\n",
       "      <td>4.972124e-01</td>\n",
       "    </tr>\n",
       "    <tr>\n",
       "      <th>min</th>\n",
       "      <td>0.000000e+00</td>\n",
       "      <td>1.000000e+00</td>\n",
       "      <td>0.000000e+00</td>\n",
       "      <td>0.000000e+00</td>\n",
       "    </tr>\n",
       "    <tr>\n",
       "      <th>25%</th>\n",
       "      <td>3.706335e+05</td>\n",
       "      <td>1.000000e+00</td>\n",
       "      <td>1.000000e+01</td>\n",
       "      <td>0.000000e+00</td>\n",
       "    </tr>\n",
       "    <tr>\n",
       "      <th>50%</th>\n",
       "      <td>7.412670e+05</td>\n",
       "      <td>2.000000e+00</td>\n",
       "      <td>1.700000e+01</td>\n",
       "      <td>0.000000e+00</td>\n",
       "    </tr>\n",
       "    <tr>\n",
       "      <th>75%</th>\n",
       "      <td>1.111900e+06</td>\n",
       "      <td>3.000000e+00</td>\n",
       "      <td>2.900000e+01</td>\n",
       "      <td>1.000000e+00</td>\n",
       "    </tr>\n",
       "    <tr>\n",
       "      <th>max</th>\n",
       "      <td>1.482534e+06</td>\n",
       "      <td>5.000000e+00</td>\n",
       "      <td>2.009000e+03</td>\n",
       "      <td>1.000000e+00</td>\n",
       "    </tr>\n",
       "  </tbody>\n",
       "</table>\n",
       "</div>"
      ],
      "text/plain": [
       "           train_id  item_condition_id         price      shipping\n",
       "count  1.482535e+06       1.482535e+06  1.482535e+06  1.482535e+06\n",
       "mean   7.412670e+05       1.907380e+00  2.673752e+01  4.472744e-01\n",
       "std    4.279711e+05       9.031586e-01  3.858607e+01  4.972124e-01\n",
       "min    0.000000e+00       1.000000e+00  0.000000e+00  0.000000e+00\n",
       "25%    3.706335e+05       1.000000e+00  1.000000e+01  0.000000e+00\n",
       "50%    7.412670e+05       2.000000e+00  1.700000e+01  0.000000e+00\n",
       "75%    1.111900e+06       3.000000e+00  2.900000e+01  1.000000e+00\n",
       "max    1.482534e+06       5.000000e+00  2.009000e+03  1.000000e+00"
      ]
     },
     "execution_count": 7,
     "metadata": {},
     "output_type": "execute_result"
    }
   ],
   "source": [
    "data.describe()"
   ]
  },
  {
   "cell_type": "markdown",
   "metadata": {
    "id": "U9o4GHBwGoMX"
   },
   "source": [
    "**Checking if any column has missing data**"
   ]
  },
  {
   "cell_type": "code",
   "execution_count": 8,
   "metadata": {
    "id": "3JnKxRmKDpsQ"
   },
   "outputs": [
    {
     "data": {
      "text/plain": [
       "test_id              False\n",
       "name                 False\n",
       "item_condition_id    False\n",
       "category_name         True\n",
       "brand_name            True\n",
       "shipping             False\n",
       "item_description      True\n",
       "dtype: bool"
      ]
     },
     "execution_count": 8,
     "metadata": {},
     "output_type": "execute_result"
    }
   ],
   "source": [
    "data.isnull().any()\n",
    "#df_train.brand_name.isnull().sum()\n",
    "x_test.isnull().any()"
   ]
  },
  {
   "cell_type": "markdown",
   "metadata": {
    "id": "7kjXdoXLMtJy"
   },
   "source": [
    "We will be dropping rows that have price <3 as it is said that mercari doesn't \n",
    "\n",
    "\n",
    "allow products to be soled for <3 and so this must be an error"
   ]
  },
  {
   "cell_type": "code",
   "execution_count": 9,
   "metadata": {
    "id": "y5jLvJQ-IVVb"
   },
   "outputs": [],
   "source": [
    "data = data.drop(data[(data.price < 3.0)].index)\n"
   ]
  },
  {
   "cell_type": "markdown",
   "metadata": {
    "id": "E-koZ9pkM0fl"
   },
   "source": [
    "**Splitting category feature**"
   ]
  },
  {
   "cell_type": "code",
   "execution_count": 10,
   "metadata": {
    "id": "LskDZm05M5qi"
   },
   "outputs": [
    {
     "data": {
      "text/html": [
       "<div>\n",
       "<style scoped>\n",
       "    .dataframe tbody tr th:only-of-type {\n",
       "        vertical-align: middle;\n",
       "    }\n",
       "\n",
       "    .dataframe tbody tr th {\n",
       "        vertical-align: top;\n",
       "    }\n",
       "\n",
       "    .dataframe thead th {\n",
       "        text-align: right;\n",
       "    }\n",
       "</style>\n",
       "<table border=\"1\" class=\"dataframe\">\n",
       "  <thead>\n",
       "    <tr style=\"text-align: right;\">\n",
       "      <th></th>\n",
       "      <th>train_id</th>\n",
       "      <th>name</th>\n",
       "      <th>item_condition_id</th>\n",
       "      <th>category_name</th>\n",
       "      <th>brand_name</th>\n",
       "      <th>price</th>\n",
       "      <th>shipping</th>\n",
       "      <th>item_description</th>\n",
       "      <th>category_main</th>\n",
       "      <th>category_sub1</th>\n",
       "      <th>category_sub2</th>\n",
       "    </tr>\n",
       "  </thead>\n",
       "  <tbody>\n",
       "    <tr>\n",
       "      <th>0</th>\n",
       "      <td>0</td>\n",
       "      <td>MLB Cincinnati Reds T Shirt Size XL</td>\n",
       "      <td>3</td>\n",
       "      <td>Men/Tops/T-shirts</td>\n",
       "      <td>NaN</td>\n",
       "      <td>10.0</td>\n",
       "      <td>1</td>\n",
       "      <td>No description yet</td>\n",
       "      <td>Men</td>\n",
       "      <td>Tops</td>\n",
       "      <td>T-shirts</td>\n",
       "    </tr>\n",
       "    <tr>\n",
       "      <th>1</th>\n",
       "      <td>1</td>\n",
       "      <td>Razer BlackWidow Chroma Keyboard</td>\n",
       "      <td>3</td>\n",
       "      <td>Electronics/Computers &amp; Tablets/Components &amp; P...</td>\n",
       "      <td>Razer</td>\n",
       "      <td>52.0</td>\n",
       "      <td>0</td>\n",
       "      <td>This keyboard is in great condition and works ...</td>\n",
       "      <td>Electronics</td>\n",
       "      <td>Computers &amp; Tablets</td>\n",
       "      <td>Components &amp; Parts</td>\n",
       "    </tr>\n",
       "    <tr>\n",
       "      <th>2</th>\n",
       "      <td>2</td>\n",
       "      <td>AVA-VIV Blouse</td>\n",
       "      <td>1</td>\n",
       "      <td>Women/Tops &amp; Blouses/Blouse</td>\n",
       "      <td>Target</td>\n",
       "      <td>10.0</td>\n",
       "      <td>1</td>\n",
       "      <td>Adorable top with a hint of lace and a key hol...</td>\n",
       "      <td>Women</td>\n",
       "      <td>Tops &amp; Blouses</td>\n",
       "      <td>Blouse</td>\n",
       "    </tr>\n",
       "    <tr>\n",
       "      <th>3</th>\n",
       "      <td>3</td>\n",
       "      <td>Leather Horse Statues</td>\n",
       "      <td>1</td>\n",
       "      <td>Home/Home Décor/Home Décor Accents</td>\n",
       "      <td>NaN</td>\n",
       "      <td>35.0</td>\n",
       "      <td>1</td>\n",
       "      <td>New with tags. Leather horses. Retail for [rm]...</td>\n",
       "      <td>Home</td>\n",
       "      <td>Home Décor</td>\n",
       "      <td>Home Décor Accents</td>\n",
       "    </tr>\n",
       "    <tr>\n",
       "      <th>4</th>\n",
       "      <td>4</td>\n",
       "      <td>24K GOLD plated rose</td>\n",
       "      <td>1</td>\n",
       "      <td>Women/Jewelry/Necklaces</td>\n",
       "      <td>NaN</td>\n",
       "      <td>44.0</td>\n",
       "      <td>0</td>\n",
       "      <td>Complete with certificate of authenticity</td>\n",
       "      <td>Women</td>\n",
       "      <td>Jewelry</td>\n",
       "      <td>Necklaces</td>\n",
       "    </tr>\n",
       "  </tbody>\n",
       "</table>\n",
       "</div>"
      ],
      "text/plain": [
       "   train_id                                 name  item_condition_id  \\\n",
       "0         0  MLB Cincinnati Reds T Shirt Size XL                  3   \n",
       "1         1     Razer BlackWidow Chroma Keyboard                  3   \n",
       "2         2                       AVA-VIV Blouse                  1   \n",
       "3         3                Leather Horse Statues                  1   \n",
       "4         4                 24K GOLD plated rose                  1   \n",
       "\n",
       "                                       category_name brand_name  price  \\\n",
       "0                                  Men/Tops/T-shirts        NaN   10.0   \n",
       "1  Electronics/Computers & Tablets/Components & P...      Razer   52.0   \n",
       "2                        Women/Tops & Blouses/Blouse     Target   10.0   \n",
       "3                 Home/Home Décor/Home Décor Accents        NaN   35.0   \n",
       "4                            Women/Jewelry/Necklaces        NaN   44.0   \n",
       "\n",
       "   shipping                                   item_description category_main  \\\n",
       "0         1                                 No description yet           Men   \n",
       "1         0  This keyboard is in great condition and works ...   Electronics   \n",
       "2         1  Adorable top with a hint of lace and a key hol...         Women   \n",
       "3         1  New with tags. Leather horses. Retail for [rm]...          Home   \n",
       "4         0          Complete with certificate of authenticity         Women   \n",
       "\n",
       "         category_sub1       category_sub2  \n",
       "0                 Tops            T-shirts  \n",
       "1  Computers & Tablets  Components & Parts  \n",
       "2       Tops & Blouses              Blouse  \n",
       "3           Home Décor  Home Décor Accents  \n",
       "4              Jewelry           Necklaces  "
      ]
     },
     "execution_count": 10,
     "metadata": {},
     "output_type": "execute_result"
    }
   ],
   "source": [
    "def transform_category_name(category_name):\n",
    "    try:\n",
    "        main, sub1, sub2= category_name.split('/')\n",
    "        return main, sub1, sub2\n",
    "    except:\n",
    "        return ('missing', 'missing', 'missing')\n",
    "\n",
    "data['category_main'], data['category_sub1'], data['category_sub2'] = zip(*data['category_name'].apply(transform_category_name))\n",
    "x_test['category_main'], x_test['category_sub1'], x_test['category_sub2'] = zip(*x_test['category_name'].apply(transform_category_name))\n",
    "\n",
    "data.head()"
   ]
  },
  {
   "cell_type": "markdown",
   "metadata": {
    "id": "Or04NLpbGyoQ"
   },
   "source": [
    "**Fill the missing values as below**"
   ]
  },
  {
   "cell_type": "code",
   "execution_count": 11,
   "metadata": {
    "id": "qhv1swuWG3qr"
   },
   "outputs": [],
   "source": [
    "def fill_nan(data):\n",
    "  '''\n",
    "  Function to fill the NaN values in various columns\n",
    "  '''\n",
    "  data[\"item_description\"].fillna(\"No description yet\",inplace=True)\n",
    "  data[\"brand_name\"].fillna(\"missing\",inplace=True)\n",
    "  data[\"category_name\"].fillna(\"missing\",inplace=True)\n",
    "  return data"
   ]
  },
  {
   "cell_type": "code",
   "execution_count": 12,
   "metadata": {
    "id": "_zGODp3bRPe5"
   },
   "outputs": [
    {
     "name": "stderr",
     "output_type": "stream",
     "text": [
      "IOPub data rate exceeded.\n",
      "The Jupyter server will temporarily stop sending output\n",
      "to the client in order to avoid crashing it.\n",
      "To change this limit, set the config variable\n",
      "`--ServerApp.iopub_data_rate_limit`.\n",
      "\n",
      "Current values:\n",
      "ServerApp.iopub_data_rate_limit=1000000.0 (bytes/sec)\n",
      "ServerApp.rate_limit_window=3.0 (secs)\n",
      "\n"
     ]
    }
   ],
   "source": [
    "names = list(data['name'].values)\n",
    "print(names)\n"
   ]
  },
  {
   "cell_type": "code",
   "execution_count": 13,
   "metadata": {
    "id": "lkW9RLtI0tSU"
   },
   "outputs": [
    {
     "name": "stderr",
     "output_type": "stream",
     "text": [
      "[nltk_data] Downloading package punkt to /Users/agereddy/nltk_data...\n",
      "[nltk_data]   Package punkt is already up-to-date!\n"
     ]
    },
    {
     "data": {
      "text/plain": [
       "True"
      ]
     },
     "execution_count": 13,
     "metadata": {},
     "output_type": "execute_result"
    }
   ],
   "source": [
    "import nltk\n",
    "nltk.download('punkt')"
   ]
  },
  {
   "cell_type": "code",
   "execution_count": 14,
   "metadata": {
    "id": "gph7EzwUXWob"
   },
   "outputs": [],
   "source": [
    "df1=data[data['brand_name'].isna()]\n"
   ]
  },
  {
   "cell_type": "code",
   "execution_count": 15,
   "metadata": {
    "id": "AFzfDZs6GbwM"
   },
   "outputs": [
    {
     "data": {
      "text/plain": [
       "632336"
      ]
     },
     "execution_count": 15,
     "metadata": {},
     "output_type": "execute_result"
    }
   ],
   "source": [
    "data.head()\n",
    "data.brand_name.isnull().sum()\n"
   ]
  },
  {
   "cell_type": "code",
   "execution_count": 16,
   "metadata": {
    "id": "sxXPjqkGSJcW"
   },
   "outputs": [
    {
     "name": "stdout",
     "output_type": "stream",
     "text": [
      "[nan 'Razer' 'Target' ... 'Astroglide' 'Cumberland Bay' 'Kids Only']\n",
      "['Razer' 'Target' 'Acacia Swimwear' ... 'Astroglide' 'Cumberland Bay'\n",
      " 'Kids Only']\n"
     ]
    }
   ],
   "source": [
    "known_brands = data['brand_name'].unique()\n",
    "print(known_brands)\n",
    "known_brands = np.delete(known_brands, [0])\n",
    "print(known_brands)"
   ]
  },
  {
   "cell_type": "code",
   "execution_count": 17,
   "metadata": {
    "id": "P04N69QLnets"
   },
   "outputs": [
    {
     "data": {
      "text/html": [
       "<div>\n",
       "<style scoped>\n",
       "    .dataframe tbody tr th:only-of-type {\n",
       "        vertical-align: middle;\n",
       "    }\n",
       "\n",
       "    .dataframe tbody tr th {\n",
       "        vertical-align: top;\n",
       "    }\n",
       "\n",
       "    .dataframe thead th {\n",
       "        text-align: right;\n",
       "    }\n",
       "</style>\n",
       "<table border=\"1\" class=\"dataframe\">\n",
       "  <thead>\n",
       "    <tr style=\"text-align: right;\">\n",
       "      <th></th>\n",
       "      <th>test_id</th>\n",
       "      <th>name</th>\n",
       "      <th>item_condition_id</th>\n",
       "      <th>brand_name</th>\n",
       "      <th>shipping</th>\n",
       "      <th>item_description</th>\n",
       "      <th>category_main</th>\n",
       "      <th>category_sub1</th>\n",
       "      <th>category_sub2</th>\n",
       "    </tr>\n",
       "  </thead>\n",
       "  <tbody>\n",
       "    <tr>\n",
       "      <th>0</th>\n",
       "      <td>0</td>\n",
       "      <td>Breast cancer \"I fight like a girl\" ring</td>\n",
       "      <td>1</td>\n",
       "      <td>missing</td>\n",
       "      <td>1</td>\n",
       "      <td>Size 7</td>\n",
       "      <td>Women</td>\n",
       "      <td>Jewelry</td>\n",
       "      <td>Rings</td>\n",
       "    </tr>\n",
       "    <tr>\n",
       "      <th>1</th>\n",
       "      <td>1</td>\n",
       "      <td>25 pcs NEW 7.5\"x12\" Kraft Bubble Mailers</td>\n",
       "      <td>1</td>\n",
       "      <td>missing</td>\n",
       "      <td>1</td>\n",
       "      <td>25 pcs NEW 7.5\"x12\" Kraft Bubble Mailers Lined...</td>\n",
       "      <td>Other</td>\n",
       "      <td>Office supplies</td>\n",
       "      <td>Shipping Supplies</td>\n",
       "    </tr>\n",
       "    <tr>\n",
       "      <th>2</th>\n",
       "      <td>2</td>\n",
       "      <td>Coach bag</td>\n",
       "      <td>1</td>\n",
       "      <td>Coach</td>\n",
       "      <td>1</td>\n",
       "      <td>Brand new coach bag. Bought for [rm] at a Coac...</td>\n",
       "      <td>Vintage &amp; Collectibles</td>\n",
       "      <td>Bags and Purses</td>\n",
       "      <td>Handbag</td>\n",
       "    </tr>\n",
       "    <tr>\n",
       "      <th>3</th>\n",
       "      <td>3</td>\n",
       "      <td>Floral Kimono</td>\n",
       "      <td>2</td>\n",
       "      <td>missing</td>\n",
       "      <td>0</td>\n",
       "      <td>-floral kimono -never worn -lightweight and pe...</td>\n",
       "      <td>Women</td>\n",
       "      <td>Sweaters</td>\n",
       "      <td>Cardigan</td>\n",
       "    </tr>\n",
       "    <tr>\n",
       "      <th>4</th>\n",
       "      <td>4</td>\n",
       "      <td>Life after Death</td>\n",
       "      <td>3</td>\n",
       "      <td>missing</td>\n",
       "      <td>1</td>\n",
       "      <td>Rediscovering life after the loss of a loved o...</td>\n",
       "      <td>Other</td>\n",
       "      <td>Books</td>\n",
       "      <td>Religion &amp; Spirituality</td>\n",
       "    </tr>\n",
       "    <tr>\n",
       "      <th>...</th>\n",
       "      <td>...</td>\n",
       "      <td>...</td>\n",
       "      <td>...</td>\n",
       "      <td>...</td>\n",
       "      <td>...</td>\n",
       "      <td>...</td>\n",
       "      <td>...</td>\n",
       "      <td>...</td>\n",
       "      <td>...</td>\n",
       "    </tr>\n",
       "    <tr>\n",
       "      <th>3460720</th>\n",
       "      <td>3460720</td>\n",
       "      <td>DARK SAMPLE BYE FOUNDATION MOISTURIZER</td>\n",
       "      <td>1</td>\n",
       "      <td>missing</td>\n",
       "      <td>1</td>\n",
       "      <td>It cosmetics Bye Bye Foundation Full Coverage ...</td>\n",
       "      <td>Beauty</td>\n",
       "      <td>Fragrance</td>\n",
       "      <td>Women</td>\n",
       "    </tr>\n",
       "    <tr>\n",
       "      <th>3460721</th>\n",
       "      <td>3460721</td>\n",
       "      <td>bundle for @brandystash</td>\n",
       "      <td>2</td>\n",
       "      <td>missing</td>\n",
       "      <td>1</td>\n",
       "      <td>♡2 pairs of omighty trackiez. one m and one s....</td>\n",
       "      <td>Women</td>\n",
       "      <td>Pants</td>\n",
       "      <td>Other</td>\n",
       "    </tr>\n",
       "    <tr>\n",
       "      <th>3460722</th>\n",
       "      <td>3460722</td>\n",
       "      <td>Toddler High-top Converse</td>\n",
       "      <td>3</td>\n",
       "      <td>Nike</td>\n",
       "      <td>0</td>\n",
       "      <td>Size 5 (toddler). Pink high top converse shoes...</td>\n",
       "      <td>Kids</td>\n",
       "      <td>Girls 0-24 Mos</td>\n",
       "      <td>Shoes</td>\n",
       "    </tr>\n",
       "    <tr>\n",
       "      <th>3460723</th>\n",
       "      <td>3460723</td>\n",
       "      <td>Yoga Sling Sandals</td>\n",
       "      <td>1</td>\n",
       "      <td>Sanuk</td>\n",
       "      <td>1</td>\n",
       "      <td>super super comfy. i have a pair but ordered t...</td>\n",
       "      <td>Women</td>\n",
       "      <td>Shoes</td>\n",
       "      <td>Sandals</td>\n",
       "    </tr>\n",
       "    <tr>\n",
       "      <th>3460724</th>\n",
       "      <td>3460724</td>\n",
       "      <td>Stylish ladies M/M insulated brown coat</td>\n",
       "      <td>3</td>\n",
       "      <td>missing</td>\n",
       "      <td>1</td>\n",
       "      <td>100% Genuine leather and faux fur insulated co...</td>\n",
       "      <td>Women</td>\n",
       "      <td>Coats &amp; Jackets</td>\n",
       "      <td>Other</td>\n",
       "    </tr>\n",
       "  </tbody>\n",
       "</table>\n",
       "<p>3460725 rows × 9 columns</p>\n",
       "</div>"
      ],
      "text/plain": [
       "         test_id                                      name  item_condition_id  \\\n",
       "0              0  Breast cancer \"I fight like a girl\" ring                  1   \n",
       "1              1  25 pcs NEW 7.5\"x12\" Kraft Bubble Mailers                  1   \n",
       "2              2                                 Coach bag                  1   \n",
       "3              3                             Floral Kimono                  2   \n",
       "4              4                          Life after Death                  3   \n",
       "...          ...                                       ...                ...   \n",
       "3460720  3460720    DARK SAMPLE BYE FOUNDATION MOISTURIZER                  1   \n",
       "3460721  3460721                   bundle for @brandystash                  2   \n",
       "3460722  3460722                 Toddler High-top Converse                  3   \n",
       "3460723  3460723                        Yoga Sling Sandals                  1   \n",
       "3460724  3460724   Stylish ladies M/M insulated brown coat                  3   \n",
       "\n",
       "        brand_name  shipping  \\\n",
       "0          missing         1   \n",
       "1          missing         1   \n",
       "2            Coach         1   \n",
       "3          missing         0   \n",
       "4          missing         1   \n",
       "...            ...       ...   \n",
       "3460720    missing         1   \n",
       "3460721    missing         1   \n",
       "3460722       Nike         0   \n",
       "3460723      Sanuk         1   \n",
       "3460724    missing         1   \n",
       "\n",
       "                                          item_description  \\\n",
       "0                                                   Size 7   \n",
       "1        25 pcs NEW 7.5\"x12\" Kraft Bubble Mailers Lined...   \n",
       "2        Brand new coach bag. Bought for [rm] at a Coac...   \n",
       "3        -floral kimono -never worn -lightweight and pe...   \n",
       "4        Rediscovering life after the loss of a loved o...   \n",
       "...                                                    ...   \n",
       "3460720  It cosmetics Bye Bye Foundation Full Coverage ...   \n",
       "3460721  ♡2 pairs of omighty trackiez. one m and one s....   \n",
       "3460722  Size 5 (toddler). Pink high top converse shoes...   \n",
       "3460723  super super comfy. i have a pair but ordered t...   \n",
       "3460724  100% Genuine leather and faux fur insulated co...   \n",
       "\n",
       "                  category_main    category_sub1            category_sub2  \n",
       "0                         Women          Jewelry                    Rings  \n",
       "1                         Other  Office supplies        Shipping Supplies  \n",
       "2        Vintage & Collectibles  Bags and Purses                  Handbag  \n",
       "3                         Women         Sweaters                 Cardigan  \n",
       "4                         Other            Books  Religion & Spirituality  \n",
       "...                         ...              ...                      ...  \n",
       "3460720                  Beauty        Fragrance                    Women  \n",
       "3460721                   Women            Pants                    Other  \n",
       "3460722                    Kids   Girls 0-24 Mos                    Shoes  \n",
       "3460723                   Women            Shoes                  Sandals  \n",
       "3460724                   Women  Coats & Jackets                    Other  \n",
       "\n",
       "[3460725 rows x 9 columns]"
      ]
     },
     "execution_count": 17,
     "metadata": {},
     "output_type": "execute_result"
    }
   ],
   "source": [
    "x_train= fill_nan(data)\n",
    "x_train.head()  \n",
    "x_test=fill_nan(x_test)\n",
    "x_test=x_test.drop(columns=['category_name'])\n",
    "\n",
    "x_test"
   ]
  },
  {
   "cell_type": "code",
   "execution_count": 18,
   "metadata": {
    "id": "Jg7DMcEIdmnV"
   },
   "outputs": [
    {
     "data": {
      "text/html": [
       "<div>\n",
       "<style scoped>\n",
       "    .dataframe tbody tr th:only-of-type {\n",
       "        vertical-align: middle;\n",
       "    }\n",
       "\n",
       "    .dataframe tbody tr th {\n",
       "        vertical-align: top;\n",
       "    }\n",
       "\n",
       "    .dataframe thead th {\n",
       "        text-align: right;\n",
       "    }\n",
       "</style>\n",
       "<table border=\"1\" class=\"dataframe\">\n",
       "  <thead>\n",
       "    <tr style=\"text-align: right;\">\n",
       "      <th></th>\n",
       "      <th>train_id</th>\n",
       "      <th>name</th>\n",
       "      <th>item_condition_id</th>\n",
       "      <th>category_name</th>\n",
       "      <th>brand_name</th>\n",
       "      <th>price</th>\n",
       "      <th>shipping</th>\n",
       "      <th>item_description</th>\n",
       "      <th>category_main</th>\n",
       "      <th>category_sub1</th>\n",
       "      <th>category_sub2</th>\n",
       "    </tr>\n",
       "  </thead>\n",
       "  <tbody>\n",
       "    <tr>\n",
       "      <th>0</th>\n",
       "      <td>0</td>\n",
       "      <td>MLB Cincinnati Reds T Shirt Size XL</td>\n",
       "      <td>3</td>\n",
       "      <td>Men/Tops/T-shirts</td>\n",
       "      <td>missing</td>\n",
       "      <td>10.0</td>\n",
       "      <td>1</td>\n",
       "      <td>No description yet</td>\n",
       "      <td>Men</td>\n",
       "      <td>Tops</td>\n",
       "      <td>T-shirts</td>\n",
       "    </tr>\n",
       "    <tr>\n",
       "      <th>1</th>\n",
       "      <td>1</td>\n",
       "      <td>Razer BlackWidow Chroma Keyboard</td>\n",
       "      <td>3</td>\n",
       "      <td>Electronics/Computers &amp; Tablets/Components &amp; P...</td>\n",
       "      <td>Razer</td>\n",
       "      <td>52.0</td>\n",
       "      <td>0</td>\n",
       "      <td>This keyboard is in great condition and works ...</td>\n",
       "      <td>Electronics</td>\n",
       "      <td>Computers &amp; Tablets</td>\n",
       "      <td>Components &amp; Parts</td>\n",
       "    </tr>\n",
       "    <tr>\n",
       "      <th>2</th>\n",
       "      <td>2</td>\n",
       "      <td>AVA-VIV Blouse</td>\n",
       "      <td>1</td>\n",
       "      <td>Women/Tops &amp; Blouses/Blouse</td>\n",
       "      <td>Target</td>\n",
       "      <td>10.0</td>\n",
       "      <td>1</td>\n",
       "      <td>Adorable top with a hint of lace and a key hol...</td>\n",
       "      <td>Women</td>\n",
       "      <td>Tops &amp; Blouses</td>\n",
       "      <td>Blouse</td>\n",
       "    </tr>\n",
       "    <tr>\n",
       "      <th>3</th>\n",
       "      <td>3</td>\n",
       "      <td>Leather Horse Statues</td>\n",
       "      <td>1</td>\n",
       "      <td>Home/Home Décor/Home Décor Accents</td>\n",
       "      <td>missing</td>\n",
       "      <td>35.0</td>\n",
       "      <td>1</td>\n",
       "      <td>New with tags. Leather horses. Retail for [rm]...</td>\n",
       "      <td>Home</td>\n",
       "      <td>Home Décor</td>\n",
       "      <td>Home Décor Accents</td>\n",
       "    </tr>\n",
       "    <tr>\n",
       "      <th>4</th>\n",
       "      <td>4</td>\n",
       "      <td>24K GOLD plated rose</td>\n",
       "      <td>1</td>\n",
       "      <td>Women/Jewelry/Necklaces</td>\n",
       "      <td>missing</td>\n",
       "      <td>44.0</td>\n",
       "      <td>0</td>\n",
       "      <td>Complete with certificate of authenticity</td>\n",
       "      <td>Women</td>\n",
       "      <td>Jewelry</td>\n",
       "      <td>Necklaces</td>\n",
       "    </tr>\n",
       "  </tbody>\n",
       "</table>\n",
       "</div>"
      ],
      "text/plain": [
       "   train_id                                 name  item_condition_id  \\\n",
       "0         0  MLB Cincinnati Reds T Shirt Size XL                  3   \n",
       "1         1     Razer BlackWidow Chroma Keyboard                  3   \n",
       "2         2                       AVA-VIV Blouse                  1   \n",
       "3         3                Leather Horse Statues                  1   \n",
       "4         4                 24K GOLD plated rose                  1   \n",
       "\n",
       "                                       category_name brand_name  price  \\\n",
       "0                                  Men/Tops/T-shirts    missing   10.0   \n",
       "1  Electronics/Computers & Tablets/Components & P...      Razer   52.0   \n",
       "2                        Women/Tops & Blouses/Blouse     Target   10.0   \n",
       "3                 Home/Home Décor/Home Décor Accents    missing   35.0   \n",
       "4                            Women/Jewelry/Necklaces    missing   44.0   \n",
       "\n",
       "   shipping                                   item_description category_main  \\\n",
       "0         1                                 No description yet           Men   \n",
       "1         0  This keyboard is in great condition and works ...   Electronics   \n",
       "2         1  Adorable top with a hint of lace and a key hol...         Women   \n",
       "3         1  New with tags. Leather horses. Retail for [rm]...          Home   \n",
       "4         0          Complete with certificate of authenticity         Women   \n",
       "\n",
       "         category_sub1       category_sub2  \n",
       "0                 Tops            T-shirts  \n",
       "1  Computers & Tablets  Components & Parts  \n",
       "2       Tops & Blouses              Blouse  \n",
       "3           Home Décor  Home Décor Accents  \n",
       "4              Jewelry           Necklaces  "
      ]
     },
     "execution_count": 18,
     "metadata": {},
     "output_type": "execute_result"
    }
   ],
   "source": [
    "#x=data.drop(columns=['price','category_name'])\n",
    "x_train.head()\n"
   ]
  },
  {
   "cell_type": "markdown",
   "metadata": {
    "id": "dsAIiV9Yq4Jo"
   },
   "source": [
    "**Price distribution**"
   ]
  },
  {
   "cell_type": "code",
   "execution_count": 19,
   "metadata": {
    "id": "ooOAYemsmCXo"
   },
   "outputs": [
    {
     "data": {
      "text/html": [
       "<div>\n",
       "<style scoped>\n",
       "    .dataframe tbody tr th:only-of-type {\n",
       "        vertical-align: middle;\n",
       "    }\n",
       "\n",
       "    .dataframe tbody tr th {\n",
       "        vertical-align: top;\n",
       "    }\n",
       "\n",
       "    .dataframe thead th {\n",
       "        text-align: right;\n",
       "    }\n",
       "</style>\n",
       "<table border=\"1\" class=\"dataframe\">\n",
       "  <thead>\n",
       "    <tr style=\"text-align: right;\">\n",
       "      <th></th>\n",
       "      <th>train_id</th>\n",
       "      <th>name</th>\n",
       "      <th>item_condition_id</th>\n",
       "      <th>category_name</th>\n",
       "      <th>brand_name</th>\n",
       "      <th>price</th>\n",
       "      <th>shipping</th>\n",
       "      <th>item_description</th>\n",
       "      <th>category_main</th>\n",
       "      <th>category_sub1</th>\n",
       "      <th>category_sub2</th>\n",
       "      <th>logPrice</th>\n",
       "    </tr>\n",
       "  </thead>\n",
       "  <tbody>\n",
       "    <tr>\n",
       "      <th>0</th>\n",
       "      <td>0</td>\n",
       "      <td>MLB Cincinnati Reds T Shirt Size XL</td>\n",
       "      <td>3</td>\n",
       "      <td>Men/Tops/T-shirts</td>\n",
       "      <td>missing</td>\n",
       "      <td>10.0</td>\n",
       "      <td>1</td>\n",
       "      <td>No description yet</td>\n",
       "      <td>Men</td>\n",
       "      <td>Tops</td>\n",
       "      <td>T-shirts</td>\n",
       "      <td>2.397895</td>\n",
       "    </tr>\n",
       "    <tr>\n",
       "      <th>1</th>\n",
       "      <td>1</td>\n",
       "      <td>Razer BlackWidow Chroma Keyboard</td>\n",
       "      <td>3</td>\n",
       "      <td>Electronics/Computers &amp; Tablets/Components &amp; P...</td>\n",
       "      <td>Razer</td>\n",
       "      <td>52.0</td>\n",
       "      <td>0</td>\n",
       "      <td>This keyboard is in great condition and works ...</td>\n",
       "      <td>Electronics</td>\n",
       "      <td>Computers &amp; Tablets</td>\n",
       "      <td>Components &amp; Parts</td>\n",
       "      <td>3.970292</td>\n",
       "    </tr>\n",
       "    <tr>\n",
       "      <th>2</th>\n",
       "      <td>2</td>\n",
       "      <td>AVA-VIV Blouse</td>\n",
       "      <td>1</td>\n",
       "      <td>Women/Tops &amp; Blouses/Blouse</td>\n",
       "      <td>Target</td>\n",
       "      <td>10.0</td>\n",
       "      <td>1</td>\n",
       "      <td>Adorable top with a hint of lace and a key hol...</td>\n",
       "      <td>Women</td>\n",
       "      <td>Tops &amp; Blouses</td>\n",
       "      <td>Blouse</td>\n",
       "      <td>2.397895</td>\n",
       "    </tr>\n",
       "    <tr>\n",
       "      <th>3</th>\n",
       "      <td>3</td>\n",
       "      <td>Leather Horse Statues</td>\n",
       "      <td>1</td>\n",
       "      <td>Home/Home Décor/Home Décor Accents</td>\n",
       "      <td>missing</td>\n",
       "      <td>35.0</td>\n",
       "      <td>1</td>\n",
       "      <td>New with tags. Leather horses. Retail for [rm]...</td>\n",
       "      <td>Home</td>\n",
       "      <td>Home Décor</td>\n",
       "      <td>Home Décor Accents</td>\n",
       "      <td>3.583519</td>\n",
       "    </tr>\n",
       "    <tr>\n",
       "      <th>4</th>\n",
       "      <td>4</td>\n",
       "      <td>24K GOLD plated rose</td>\n",
       "      <td>1</td>\n",
       "      <td>Women/Jewelry/Necklaces</td>\n",
       "      <td>missing</td>\n",
       "      <td>44.0</td>\n",
       "      <td>0</td>\n",
       "      <td>Complete with certificate of authenticity</td>\n",
       "      <td>Women</td>\n",
       "      <td>Jewelry</td>\n",
       "      <td>Necklaces</td>\n",
       "      <td>3.806662</td>\n",
       "    </tr>\n",
       "  </tbody>\n",
       "</table>\n",
       "</div>"
      ],
      "text/plain": [
       "   train_id                                 name  item_condition_id  \\\n",
       "0         0  MLB Cincinnati Reds T Shirt Size XL                  3   \n",
       "1         1     Razer BlackWidow Chroma Keyboard                  3   \n",
       "2         2                       AVA-VIV Blouse                  1   \n",
       "3         3                Leather Horse Statues                  1   \n",
       "4         4                 24K GOLD plated rose                  1   \n",
       "\n",
       "                                       category_name brand_name  price  \\\n",
       "0                                  Men/Tops/T-shirts    missing   10.0   \n",
       "1  Electronics/Computers & Tablets/Components & P...      Razer   52.0   \n",
       "2                        Women/Tops & Blouses/Blouse     Target   10.0   \n",
       "3                 Home/Home Décor/Home Décor Accents    missing   35.0   \n",
       "4                            Women/Jewelry/Necklaces    missing   44.0   \n",
       "\n",
       "   shipping                                   item_description category_main  \\\n",
       "0         1                                 No description yet           Men   \n",
       "1         0  This keyboard is in great condition and works ...   Electronics   \n",
       "2         1  Adorable top with a hint of lace and a key hol...         Women   \n",
       "3         1  New with tags. Leather horses. Retail for [rm]...          Home   \n",
       "4         0          Complete with certificate of authenticity         Women   \n",
       "\n",
       "         category_sub1       category_sub2  logPrice  \n",
       "0                 Tops            T-shirts  2.397895  \n",
       "1  Computers & Tablets  Components & Parts  3.970292  \n",
       "2       Tops & Blouses              Blouse  2.397895  \n",
       "3           Home Décor  Home Décor Accents  3.583519  \n",
       "4              Jewelry           Necklaces  3.806662  "
      ]
     },
     "execution_count": 19,
     "metadata": {},
     "output_type": "execute_result"
    }
   ],
   "source": [
    "data[\"logPrice\"] = np.log(data['price']+1)\n",
    "data.head()"
   ]
  },
  {
   "cell_type": "code",
   "execution_count": 20,
   "metadata": {
    "id": "ai77A98zNLfH"
   },
   "outputs": [],
   "source": [
    "y_train=data.logPrice\n",
    "y=data.price\n"
   ]
  },
  {
   "cell_type": "markdown",
   "metadata": {
    "id": "cn3SIa4Kn7m6"
   },
   "source": [
    "\n",
    "We have scaled down our 'price' feature logprice. We have added log(Price+1) to it as log(0) is undefined. hence if price for an item is 0, then the item will have no price as defined."
   ]
  },
  {
   "cell_type": "markdown",
   "metadata": {
    "id": "St9meMESosT6"
   },
   "source": [
    "The 'log(price+1)' feature has the price range spread over 2.3-3.5 for most of the items"
   ]
  },
  {
   "cell_type": "markdown",
   "metadata": {
    "id": "BncMnym-9prS"
   },
   "source": [
    "**Binning Price Into Two Categories**"
   ]
  },
  {
   "cell_type": "code",
   "execution_count": 21,
   "metadata": {
    "id": "KvR1YtdD46-J"
   },
   "outputs": [
    {
     "data": {
      "text/html": [
       "<div>\n",
       "<style scoped>\n",
       "    .dataframe tbody tr th:only-of-type {\n",
       "        vertical-align: middle;\n",
       "    }\n",
       "\n",
       "    .dataframe tbody tr th {\n",
       "        vertical-align: top;\n",
       "    }\n",
       "\n",
       "    .dataframe thead th {\n",
       "        text-align: right;\n",
       "    }\n",
       "</style>\n",
       "<table border=\"1\" class=\"dataframe\">\n",
       "  <thead>\n",
       "    <tr style=\"text-align: right;\">\n",
       "      <th></th>\n",
       "      <th>train_id</th>\n",
       "      <th>name</th>\n",
       "      <th>item_condition_id</th>\n",
       "      <th>category_name</th>\n",
       "      <th>brand_name</th>\n",
       "      <th>price</th>\n",
       "      <th>shipping</th>\n",
       "      <th>item_description</th>\n",
       "      <th>category_main</th>\n",
       "      <th>category_sub1</th>\n",
       "      <th>category_sub2</th>\n",
       "      <th>logPrice</th>\n",
       "      <th>price_level</th>\n",
       "    </tr>\n",
       "  </thead>\n",
       "  <tbody>\n",
       "    <tr>\n",
       "      <th>0</th>\n",
       "      <td>0</td>\n",
       "      <td>MLB Cincinnati Reds T Shirt Size XL</td>\n",
       "      <td>3</td>\n",
       "      <td>Men/Tops/T-shirts</td>\n",
       "      <td>missing</td>\n",
       "      <td>10.0</td>\n",
       "      <td>1</td>\n",
       "      <td>No description yet</td>\n",
       "      <td>Men</td>\n",
       "      <td>Tops</td>\n",
       "      <td>T-shirts</td>\n",
       "      <td>2.397895</td>\n",
       "      <td>cheap</td>\n",
       "    </tr>\n",
       "    <tr>\n",
       "      <th>1</th>\n",
       "      <td>1</td>\n",
       "      <td>Razer BlackWidow Chroma Keyboard</td>\n",
       "      <td>3</td>\n",
       "      <td>Electronics/Computers &amp; Tablets/Components &amp; P...</td>\n",
       "      <td>Razer</td>\n",
       "      <td>52.0</td>\n",
       "      <td>0</td>\n",
       "      <td>This keyboard is in great condition and works ...</td>\n",
       "      <td>Electronics</td>\n",
       "      <td>Computers &amp; Tablets</td>\n",
       "      <td>Components &amp; Parts</td>\n",
       "      <td>3.970292</td>\n",
       "      <td>cheap</td>\n",
       "    </tr>\n",
       "    <tr>\n",
       "      <th>2</th>\n",
       "      <td>2</td>\n",
       "      <td>AVA-VIV Blouse</td>\n",
       "      <td>1</td>\n",
       "      <td>Women/Tops &amp; Blouses/Blouse</td>\n",
       "      <td>Target</td>\n",
       "      <td>10.0</td>\n",
       "      <td>1</td>\n",
       "      <td>Adorable top with a hint of lace and a key hol...</td>\n",
       "      <td>Women</td>\n",
       "      <td>Tops &amp; Blouses</td>\n",
       "      <td>Blouse</td>\n",
       "      <td>2.397895</td>\n",
       "      <td>cheap</td>\n",
       "    </tr>\n",
       "    <tr>\n",
       "      <th>3</th>\n",
       "      <td>3</td>\n",
       "      <td>Leather Horse Statues</td>\n",
       "      <td>1</td>\n",
       "      <td>Home/Home Décor/Home Décor Accents</td>\n",
       "      <td>missing</td>\n",
       "      <td>35.0</td>\n",
       "      <td>1</td>\n",
       "      <td>New with tags. Leather horses. Retail for [rm]...</td>\n",
       "      <td>Home</td>\n",
       "      <td>Home Décor</td>\n",
       "      <td>Home Décor Accents</td>\n",
       "      <td>3.583519</td>\n",
       "      <td>cheap</td>\n",
       "    </tr>\n",
       "    <tr>\n",
       "      <th>4</th>\n",
       "      <td>4</td>\n",
       "      <td>24K GOLD plated rose</td>\n",
       "      <td>1</td>\n",
       "      <td>Women/Jewelry/Necklaces</td>\n",
       "      <td>missing</td>\n",
       "      <td>44.0</td>\n",
       "      <td>0</td>\n",
       "      <td>Complete with certificate of authenticity</td>\n",
       "      <td>Women</td>\n",
       "      <td>Jewelry</td>\n",
       "      <td>Necklaces</td>\n",
       "      <td>3.806662</td>\n",
       "      <td>cheap</td>\n",
       "    </tr>\n",
       "  </tbody>\n",
       "</table>\n",
       "</div>"
      ],
      "text/plain": [
       "   train_id                                 name  item_condition_id  \\\n",
       "0         0  MLB Cincinnati Reds T Shirt Size XL                  3   \n",
       "1         1     Razer BlackWidow Chroma Keyboard                  3   \n",
       "2         2                       AVA-VIV Blouse                  1   \n",
       "3         3                Leather Horse Statues                  1   \n",
       "4         4                 24K GOLD plated rose                  1   \n",
       "\n",
       "                                       category_name brand_name  price  \\\n",
       "0                                  Men/Tops/T-shirts    missing   10.0   \n",
       "1  Electronics/Computers & Tablets/Components & P...      Razer   52.0   \n",
       "2                        Women/Tops & Blouses/Blouse     Target   10.0   \n",
       "3                 Home/Home Décor/Home Décor Accents    missing   35.0   \n",
       "4                            Women/Jewelry/Necklaces    missing   44.0   \n",
       "\n",
       "   shipping                                   item_description category_main  \\\n",
       "0         1                                 No description yet           Men   \n",
       "1         0  This keyboard is in great condition and works ...   Electronics   \n",
       "2         1  Adorable top with a hint of lace and a key hol...         Women   \n",
       "3         1  New with tags. Leather horses. Retail for [rm]...          Home   \n",
       "4         0          Complete with certificate of authenticity         Women   \n",
       "\n",
       "         category_sub1       category_sub2  logPrice price_level  \n",
       "0                 Tops            T-shirts  2.397895       cheap  \n",
       "1  Computers & Tablets  Components & Parts  3.970292       cheap  \n",
       "2       Tops & Blouses              Blouse  2.397895       cheap  \n",
       "3           Home Décor  Home Décor Accents  3.583519       cheap  \n",
       "4              Jewelry           Necklaces  3.806662       cheap  "
      ]
     },
     "execution_count": 21,
     "metadata": {},
     "output_type": "execute_result"
    }
   ],
   "source": [
    "bins = [0, 64, 5000]\n",
    "labels = ['cheap','expensive']\n",
    "data['price_level'] = pd.cut(data['price'], bins=bins, labels=labels)\n",
    "\n",
    "data.head()"
   ]
  },
  {
   "cell_type": "markdown",
   "metadata": {
    "id": "STCK577TEDUQ"
   },
   "source": [
    "**shipping distribution:**"
   ]
  },
  {
   "cell_type": "markdown",
   "metadata": {
    "id": "FxhIHGdtzqFh"
   },
   "source": [
    "**Statistics summary** - Clearly, ANOVA test suggests that there is a significant difference and 'p' value is quite negligible - so we will be going forward with our conclusion that there is indeed a significant enough difference between the 2 shipping categories in the price values\n"
   ]
  },
  {
   "cell_type": "markdown",
   "metadata": {
    "id": "nFewAGrb_UZr"
   },
   "source": [
    "**conclusion:**\n",
    ">>We can conclude that lower prices hhave shipping paid by buyers and higher prices by sellers."
   ]
  },
  {
   "cell_type": "markdown",
   "metadata": {
    "id": "GGB2YXXPnZZc"
   },
   "source": [
    "\n",
    "**category distribution:**"
   ]
  },
  {
   "cell_type": "markdown",
   "metadata": {
    "id": "MoHcQdDL9osv"
   },
   "source": [
    "**CONCLUSION:**\n",
    ">> We can conclude that Women category is the highest, followed by clothing."
   ]
  },
  {
   "cell_type": "markdown",
   "metadata": {
    "id": "0r6LhrHZ14qK"
   },
   "source": [
    "**Brand name distribution**"
   ]
  },
  {
   "cell_type": "code",
   "execution_count": 22,
   "metadata": {
    "id": "0vzvcqxv127Q"
   },
   "outputs": [
    {
     "name": "stdout",
     "output_type": "stream",
     "text": [
      "No of unique values in brand are: 4808\n",
      "No of unique values in brand are is: missing              632336\n",
      "PINK                  54072\n",
      "Nike                  54006\n",
      "Victoria's Secret     48011\n",
      "LuLaRoe               30995\n",
      "                      ...  \n",
      "Winterland                1\n",
      "Bully Dog                 1\n",
      "Krush                     1\n",
      "Moon Collection           1\n",
      "Keekaroo                  1\n",
      "Name: brand_name, Length: 4808, dtype: int64\n"
     ]
    },
    {
     "data": {
      "text/plain": [
       "<AxesSubplot:title={'center':'Brand'}>"
      ]
     },
     "execution_count": 22,
     "metadata": {},
     "output_type": "execute_result"
    },
    {
     "data": {
      "image/png": "[encoded data removed]",
      "text/plain": [
       "<Figure size 936x360 with 1 Axes>"
      ]
     },
     "metadata": {
      "needs_background": "light"
     },
     "output_type": "display_data"
    }
   ],
   "source": [
    "print(\"No of unique values in brand are:\",x_train['brand_name'].nunique())\n",
    "print(\"No of unique values in brand are is:\",x_train['brand_name'].value_counts())\n",
    "x_train.brand_name.value_counts()[:10].plot(kind = 'bar',figsize = (13,5), title=\"Brand\",fontsize=20)"
   ]
  },
  {
   "cell_type": "markdown",
   "metadata": {
    "id": "-Qt56AdgYNAQ"
   },
   "source": [
    "# Display Top 20 Expensive Brands By Mean Price\n"
   ]
  },
  {
   "cell_type": "markdown",
   "metadata": {
    "id": "G-c3Zwfh9b-o"
   },
   "source": [
    "**CONCLUSION**\n",
    ">> We could see most of the brand names are missing ."
   ]
  },
  {
   "cell_type": "markdown",
   "metadata": {
    "id": "8O-Gp0dJ8exa"
   },
   "source": [
    "**Item description:**\n"
   ]
  },
  {
   "cell_type": "markdown",
   "metadata": {
    "id": "xZkEbwje9TCL"
   },
   "source": [
    "Word plot gives most frequent words used in the field"
   ]
  },
  {
   "cell_type": "markdown",
   "metadata": {
    "id": "nQUwPp9NCnFt"
   },
   "source": [
    "**TEXT PRE-PROCESSING AND FEATURIZATION**\n",
    "\n",
    "\n"
   ]
  },
  {
   "cell_type": "markdown",
   "metadata": {
    "id": "mT7au2BEaQXk"
   },
   "source": [
    "# BRAND NAME"
   ]
  },
  {
   "cell_type": "code",
   "execution_count": 23,
   "metadata": {
    "id": "yXsQFvUIX7Q6"
   },
   "outputs": [],
   "source": [
    "#this function assigns a value 1 if a product has brand_name else 0\"\"\"\n",
    "\n",
    "def branded(data):\n",
    "   is_branded=[]\n",
    "   for i in data['brand_name']:\n",
    "      if i=='missing': \n",
    "          is_branded.append(0) \n",
    "      else: \n",
    "          is_branded.append(1)\n",
    "   return is_branded\n",
    "x_train['is_branded']=branded(x_train)\n",
    "x_test['is_branded']=branded(x_test)"
   ]
  },
  {
   "cell_type": "markdown",
   "metadata": {
    "id": "ccnYsFQj4BLK"
   },
   "source": [
    "\"\"\" \n",
    "    This function is used to guess the missing brand name.\n",
    "    It will check for an existing brand name mentioned in the item name section and also category of brnad name and populates the missing brand\n",
    "\"\"\"\n",
    "def fill_brand(row):\n",
    "    brand, name, cn = row\n",
    "    brand = brand.lower()\n",
    "    if brand=='missing':\n",
    "        for brand in known_brands:\n",
    "            if str(brand) in name:\n",
    "                return brand         \n",
    "    return brand\n",
    "x_train['fillmissingbrands'] = x_train[['brand_name','name', 'category_main']].apply(fill_brand, axis = 1)\n",
    "x_test['fillmissingbrands'] = x_test[['brand_name','name', 'category_main']].apply(fill_brand, axis = 1)\n"
   ]
  },
  {
   "cell_type": "code",
   "execution_count": 24,
   "metadata": {
    "id": "TPQQgeUP13L0"
   },
   "outputs": [],
   "source": [
    "# https://stackoverflow.com/a/47091490/4084039\n",
    "import re\n",
    "\n",
    "def decontracted(phrase):\n",
    "    # specific\n",
    "    phrase = re.sub(r\"won't\", \"will not\", phrase)\n",
    "    phrase = re.sub(r\"can\\'t\", \"can not\", phrase)\n",
    "\n",
    "    # general\n",
    "    phrase = re.sub(r\"n\\'t\", \" not\", phrase)\n",
    "    phrase = re.sub(r\"\\'re\", \" are\", phrase)\n",
    "    phrase = re.sub(r\"\\'s\", \" is\", phrase)\n",
    "    phrase = re.sub(r\"\\'d\", \" would\", phrase)\n",
    "    phrase = re.sub(r\"\\'ll\", \" will\", phrase)\n",
    "    phrase = re.sub(r\"\\'t\", \" not\", phrase)\n",
    "    phrase = re.sub(r\"\\'ve\", \" have\", phrase)\n",
    "    phrase = re.sub(r\"\\'m\", \" am\", phrase)\n",
    "    return phrase"
   ]
  },
  {
   "cell_type": "code",
   "execution_count": 25,
   "metadata": {
    "id": "H1V5_Z-UFECb"
   },
   "outputs": [],
   "source": [
    "# https://gist.github.com/sebleier/554280\n",
    "# we are removing the words from the stop words list: 'no', 'nor', 'not'\n",
    "stopwords= ['i', 'me', 'my', 'myself', 'we', 'our', 'ours', 'ourselves', 'you', \"you're\", \"you've\",\\\n",
    "            \"you'll\", \"you'd\", 'your', 'yours', 'yourself', 'yourselves', 'he', 'him', 'his', 'himself', \\\n",
    "            'she', \"she's\", 'her', 'hers', 'herself', 'it', \"it's\", 'its', 'itself', 'they', 'them', 'their',\\\n",
    "            'theirs', 'themselves', 'what', 'which', 'who', 'whom', 'this', 'that', \"that'll\", 'these', 'those', \\\n",
    "            'am', 'is', 'are', 'was', 'were', 'be', 'been', 'being', 'have', 'has', 'had', 'having', 'do', 'does', \\\n",
    "            'did', 'doing', 'a', 'an', 'the', 'and', 'but', 'if', 'or', 'because', 'as', 'until', 'while', 'of', \\\n",
    "            'at', 'by', 'for', 'with', 'about', 'against', 'between', 'into', 'through', 'during', 'before', 'after',\\\n",
    "            'above', 'below', 'to', 'from', 'up', 'down', 'in', 'out', 'on', 'off', 'over', 'under', 'again', 'further',\\\n",
    "            'then', 'once', 'here', 'there', 'when', 'where', 'why', 'how', 'all', 'any', 'both', 'each', 'few', 'more',\\\n",
    "            'most', 'other', 'some', 'such', 'only', 'own', 'same', 'so', 'than', 'too', 'very', \\\n",
    "            's', 't', 'can', 'will', 'just', 'don', \"don't\", 'should', \"should've\", 'now', 'd', 'll', 'm', 'o', 're', \\\n",
    "            've', 'y', 'ain', 'aren', \"aren't\", 'couldn', \"couldn't\", 'didn', \"didn't\", 'doesn', \"doesn't\", 'hadn',\\\n",
    "            \"hadn't\", 'hasn', \"hasn't\", 'haven', \"haven't\", 'isn', \"isn't\", 'ma', 'mightn', \"mightn't\", 'mustn',\\\n",
    "            \"mustn't\", 'needn', \"needn't\", 'shan', \"shan't\", 'shouldn', \"shouldn't\", 'wasn', \"wasn't\", 'weren', \"weren't\", \\\n",
    "            'won', \"won't\", 'wouldn', \"wouldn't\"]"
   ]
  },
  {
   "cell_type": "code",
   "execution_count": 26,
   "metadata": {
    "id": "0iorPsGhFSqm"
   },
   "outputs": [],
   "source": [
    "# Combining all the above stundents \n",
    "from tqdm import tqdm\n",
    "def preprocess_text(text_data):\n",
    "    preprocessed_text = []\n",
    "    # tqdm is for printing the status bar\n",
    "    for sentance in tqdm(text_data):\n",
    "        sent = decontracted(sentance)\n",
    "        sent = sent.replace('\\\\r', ' ')\n",
    "        sent = sent.replace('\\\\n', ' ')\n",
    "        sent = sent.replace('\\\\\"', ' ')\n",
    "        sent = re.sub('[^A-Za-z0-9]+', ' ', sent)\n",
    "        # https://gist.github.com/sebleier/554280\n",
    "        sent = ' '.join(e for e in sent.split() if e.lower() not in stopwords)\n",
    "        preprocessed_text.append(sent.lower().strip())\n",
    "    return preprocessed_text"
   ]
  },
  {
   "cell_type": "code",
   "execution_count": 27,
   "metadata": {
    "id": "a-giZL1uFWbr"
   },
   "outputs": [
    {
     "name": "stderr",
     "output_type": "stream",
     "text": [
      "100%|██████████| 1481661/1481661 [01:29<00:00, 16500.07it/s]\n",
      "  0%|          | 1390/3460725 [00:00<04:08, 13896.93it/s]"
     ]
    },
    {
     "name": "stdout",
     "output_type": "stream",
     "text": [
      "['no description yet', 'keyboard great condition works like came box ports tested work perfectly lights customizable via razer synapse app pc', 'adorable top hint lace key hole back pale pink 1x also 3x available white', 'new tags leather horses retail rm stand foot high sold pair questions please ask free shipping got storage', 'complete certificate authenticity']\n"
     ]
    },
    {
     "name": "stderr",
     "output_type": "stream",
     "text": [
      "100%|██████████| 3460725/3460725 [03:35<00:00, 16069.22it/s]\n"
     ]
    }
   ],
   "source": [
    "preprocessed_item_description = preprocess_text(x_train['item_description'].values)\n",
    "print(preprocessed_item_description[:5])\n",
    "preprocessed_test_item_description = preprocess_text(x_test['item_description'].values)"
   ]
  },
  {
   "cell_type": "code",
   "execution_count": 28,
   "metadata": {
    "id": "_eJcGNb6Q-5V"
   },
   "outputs": [
    {
     "data": {
      "text/plain": [
       "'25 pcs new 7 5 x12 kraft bubble mailers lined bubble wrap protection self sealing peel seal adhesive keeps contents secure tamper proof durable lightweight kraft material helps save postage approved ups fedex usps'"
      ]
     },
     "execution_count": 28,
     "metadata": {},
     "output_type": "execute_result"
    }
   ],
   "source": [
    "preprocessed_test_item_description[1]"
   ]
  },
  {
   "cell_type": "code",
   "execution_count": 29,
   "metadata": {
    "id": "QIYLNaZ1Q7NH"
   },
   "outputs": [],
   "source": [
    "word_punctuation_tokenizer = nltk.WordPunctTokenizer()\n",
    "word_tokenized_corpus = [word_punctuation_tokenizer.tokenize(sent) for sent in preprocessed_test_item_description]\n"
   ]
  },
  {
   "cell_type": "code",
   "execution_count": 30,
   "metadata": {
    "id": "w9w-cdM2FWgQ"
   },
   "outputs": [],
   "source": [
    "#How to calculate number of words in a string in DataFrame: https://stackoverflow.com/a/37483537/4084039\n",
    "\n",
    "x_train['preprocessed_item_description'] = preprocessed_item_description\n",
    "x_test['preprocessed_item_description'] = preprocessed_test_item_description\n",
    "\n",
    "word_count = x_train['preprocessed_item_description'].str.split().apply(len).value_counts()\n",
    "word_dict = dict(word_count)\n",
    "word_dict = dict(sorted(word_dict.items(), key=lambda kv: kv[1])[0:10])\n",
    "x_train['count'] = x_train['preprocessed_item_description'].apply(lambda x : len(str(x)))\n",
    "x_test['count'] = x_test['preprocessed_item_description'].apply(lambda x : len(str(x)))\n",
    "\n"
   ]
  },
  {
   "cell_type": "markdown",
   "metadata": {
    "id": "HupHF2GDECiE"
   },
   "source": [
    "**Price Vs Description length**\n"
   ]
  },
  {
   "cell_type": "markdown",
   "metadata": {
    "id": "HsMxKJgID4PD"
   },
   "source": [
    "Here, description length vs price has been given. From the plot, it can be said as length increases, price charged becomes lesser and lesser. Most of the items with lesser description length have more price value."
   ]
  },
  {
   "cell_type": "markdown",
   "metadata": {
    "id": "6OKqY6mybQwo"
   },
   "source": [
    "**Calculating sentiment score.**\n",
    "\n",
    "\n",
    "import nltk\n",
    "from nltk.sentiment.vader import SentimentIntensityAnalyzer\n",
    "nltk.download('vader_lexicon')\n",
    "\n",
    "\n",
    "#performing sentiment analysis \n",
    "\n",
    "def sentiment_analysis(data):\n",
    "   sentiment_score = SentimentIntensityAnalyzer()\n",
    "   sentiment = []\n",
    "   for sentence in tqdm(data):\n",
    "       sentiment.append(sentiment_score.polarity_scores(sentence))\n",
    "   return sentiment\n",
    "\n",
    "\n",
    "training_sentiment_score=sentiment_analysis(x_train['item_description']) \n",
    "cv_sentiment_score=sentiment_analysis(x_test['item_description'])\n",
    "\n",
    "\n",
    "\n",
    "#Training Data Sentiment Analysis\n",
    "pos,neg,neu,comp=splitting_sentiment(training_sentiment_score)\n",
    "x_train['positive']=pos\n",
    "x_train['negative']=neg\n",
    "x_train['neutral']=neu\n",
    "x_train['compound']=comp\n",
    "\n",
    "\n",
    "\n",
    "\n",
    "#x_test Data Sentiment Analysis\n",
    "pos,neg,neu,comp=splitting_sentiment(cv_sentiment_score)\n",
    "x_test['positive']=pos\n",
    "x_test['negative']=neg\n",
    "x_test['neutral']=neu\n",
    "x_test['compound']=comp"
   ]
  },
  {
   "cell_type": "code",
   "execution_count": 31,
   "metadata": {
    "id": "u8xVXFPT_zfX"
   },
   "outputs": [
    {
     "data": {
      "text/html": [
       "<div>\n",
       "<style scoped>\n",
       "    .dataframe tbody tr th:only-of-type {\n",
       "        vertical-align: middle;\n",
       "    }\n",
       "\n",
       "    .dataframe tbody tr th {\n",
       "        vertical-align: top;\n",
       "    }\n",
       "\n",
       "    .dataframe thead th {\n",
       "        text-align: right;\n",
       "    }\n",
       "</style>\n",
       "<table border=\"1\" class=\"dataframe\">\n",
       "  <thead>\n",
       "    <tr style=\"text-align: right;\">\n",
       "      <th></th>\n",
       "      <th>train_id</th>\n",
       "      <th>name</th>\n",
       "      <th>item_condition_id</th>\n",
       "      <th>category_name</th>\n",
       "      <th>brand_name</th>\n",
       "      <th>price</th>\n",
       "      <th>shipping</th>\n",
       "      <th>item_description</th>\n",
       "      <th>category_main</th>\n",
       "      <th>category_sub1</th>\n",
       "      <th>category_sub2</th>\n",
       "      <th>logPrice</th>\n",
       "      <th>price_level</th>\n",
       "      <th>is_branded</th>\n",
       "      <th>preprocessed_item_description</th>\n",
       "      <th>count</th>\n",
       "    </tr>\n",
       "  </thead>\n",
       "  <tbody>\n",
       "    <tr>\n",
       "      <th>0</th>\n",
       "      <td>0</td>\n",
       "      <td>MLB Cincinnati Reds T Shirt Size XL</td>\n",
       "      <td>3</td>\n",
       "      <td>Men/Tops/T-shirts</td>\n",
       "      <td>missing</td>\n",
       "      <td>10.0</td>\n",
       "      <td>1</td>\n",
       "      <td>No description yet</td>\n",
       "      <td>Men</td>\n",
       "      <td>Tops</td>\n",
       "      <td>T-shirts</td>\n",
       "      <td>2.397895</td>\n",
       "      <td>cheap</td>\n",
       "      <td>0</td>\n",
       "      <td>no description yet</td>\n",
       "      <td>18</td>\n",
       "    </tr>\n",
       "    <tr>\n",
       "      <th>1</th>\n",
       "      <td>1</td>\n",
       "      <td>Razer BlackWidow Chroma Keyboard</td>\n",
       "      <td>3</td>\n",
       "      <td>Electronics/Computers &amp; Tablets/Components &amp; P...</td>\n",
       "      <td>Razer</td>\n",
       "      <td>52.0</td>\n",
       "      <td>0</td>\n",
       "      <td>This keyboard is in great condition and works ...</td>\n",
       "      <td>Electronics</td>\n",
       "      <td>Computers &amp; Tablets</td>\n",
       "      <td>Components &amp; Parts</td>\n",
       "      <td>3.970292</td>\n",
       "      <td>cheap</td>\n",
       "      <td>1</td>\n",
       "      <td>keyboard great condition works like came box p...</td>\n",
       "      <td>117</td>\n",
       "    </tr>\n",
       "    <tr>\n",
       "      <th>2</th>\n",
       "      <td>2</td>\n",
       "      <td>AVA-VIV Blouse</td>\n",
       "      <td>1</td>\n",
       "      <td>Women/Tops &amp; Blouses/Blouse</td>\n",
       "      <td>Target</td>\n",
       "      <td>10.0</td>\n",
       "      <td>1</td>\n",
       "      <td>Adorable top with a hint of lace and a key hol...</td>\n",
       "      <td>Women</td>\n",
       "      <td>Tops &amp; Blouses</td>\n",
       "      <td>Blouse</td>\n",
       "      <td>2.397895</td>\n",
       "      <td>cheap</td>\n",
       "      <td>1</td>\n",
       "      <td>adorable top hint lace key hole back pale pink...</td>\n",
       "      <td>73</td>\n",
       "    </tr>\n",
       "    <tr>\n",
       "      <th>3</th>\n",
       "      <td>3</td>\n",
       "      <td>Leather Horse Statues</td>\n",
       "      <td>1</td>\n",
       "      <td>Home/Home Décor/Home Décor Accents</td>\n",
       "      <td>missing</td>\n",
       "      <td>35.0</td>\n",
       "      <td>1</td>\n",
       "      <td>New with tags. Leather horses. Retail for [rm]...</td>\n",
       "      <td>Home</td>\n",
       "      <td>Home Décor</td>\n",
       "      <td>Home Décor Accents</td>\n",
       "      <td>3.583519</td>\n",
       "      <td>cheap</td>\n",
       "      <td>0</td>\n",
       "      <td>new tags leather horses retail rm stand foot h...</td>\n",
       "      <td>106</td>\n",
       "    </tr>\n",
       "    <tr>\n",
       "      <th>4</th>\n",
       "      <td>4</td>\n",
       "      <td>24K GOLD plated rose</td>\n",
       "      <td>1</td>\n",
       "      <td>Women/Jewelry/Necklaces</td>\n",
       "      <td>missing</td>\n",
       "      <td>44.0</td>\n",
       "      <td>0</td>\n",
       "      <td>Complete with certificate of authenticity</td>\n",
       "      <td>Women</td>\n",
       "      <td>Jewelry</td>\n",
       "      <td>Necklaces</td>\n",
       "      <td>3.806662</td>\n",
       "      <td>cheap</td>\n",
       "      <td>0</td>\n",
       "      <td>complete certificate authenticity</td>\n",
       "      <td>33</td>\n",
       "    </tr>\n",
       "  </tbody>\n",
       "</table>\n",
       "</div>"
      ],
      "text/plain": [
       "   train_id                                 name  item_condition_id  \\\n",
       "0         0  MLB Cincinnati Reds T Shirt Size XL                  3   \n",
       "1         1     Razer BlackWidow Chroma Keyboard                  3   \n",
       "2         2                       AVA-VIV Blouse                  1   \n",
       "3         3                Leather Horse Statues                  1   \n",
       "4         4                 24K GOLD plated rose                  1   \n",
       "\n",
       "                                       category_name brand_name  price  \\\n",
       "0                                  Men/Tops/T-shirts    missing   10.0   \n",
       "1  Electronics/Computers & Tablets/Components & P...      Razer   52.0   \n",
       "2                        Women/Tops & Blouses/Blouse     Target   10.0   \n",
       "3                 Home/Home Décor/Home Décor Accents    missing   35.0   \n",
       "4                            Women/Jewelry/Necklaces    missing   44.0   \n",
       "\n",
       "   shipping                                   item_description category_main  \\\n",
       "0         1                                 No description yet           Men   \n",
       "1         0  This keyboard is in great condition and works ...   Electronics   \n",
       "2         1  Adorable top with a hint of lace and a key hol...         Women   \n",
       "3         1  New with tags. Leather horses. Retail for [rm]...          Home   \n",
       "4         0          Complete with certificate of authenticity         Women   \n",
       "\n",
       "         category_sub1       category_sub2  logPrice price_level  is_branded  \\\n",
       "0                 Tops            T-shirts  2.397895       cheap           0   \n",
       "1  Computers & Tablets  Components & Parts  3.970292       cheap           1   \n",
       "2       Tops & Blouses              Blouse  2.397895       cheap           1   \n",
       "3           Home Décor  Home Décor Accents  3.583519       cheap           0   \n",
       "4              Jewelry           Necklaces  3.806662       cheap           0   \n",
       "\n",
       "                       preprocessed_item_description  count  \n",
       "0                                 no description yet     18  \n",
       "1  keyboard great condition works like came box p...    117  \n",
       "2  adorable top hint lace key hole back pale pink...     73  \n",
       "3  new tags leather horses retail rm stand foot h...    106  \n",
       "4                  complete certificate authenticity     33  "
      ]
     },
     "execution_count": 31,
     "metadata": {},
     "output_type": "execute_result"
    }
   ],
   "source": [
    "x=x_train.drop(columns=['item_description'])\n",
    "x_train.head()"
   ]
  },
  {
   "cell_type": "markdown",
   "metadata": {
    "id": "C55HbHLMr8ku"
   },
   "source": [
    "**Item condition** **distribution** \n"
   ]
  },
  {
   "cell_type": "markdown",
   "metadata": {
    "id": "QxO_aIeJsP6D"
   },
   "source": [
    "**conclusion:**\n",
    "1. we can say that the distrinbution of prices among different conditions are significantly different."
   ]
  },
  {
   "cell_type": "markdown",
   "metadata": {
    "id": "MUA1Gq0_RVH_"
   },
   "source": [
    "**Name Feature:**"
   ]
  },
  {
   "cell_type": "code",
   "execution_count": 32,
   "metadata": {
    "id": "FOIproK_QiRL"
   },
   "outputs": [
    {
     "name": "stderr",
     "output_type": "stream",
     "text": [
      "100%|██████████| 1481661/1481661 [00:27<00:00, 54680.47it/s]\n",
      "  0%|          | 4265/3460725 [00:00<01:21, 42647.09it/s]"
     ]
    },
    {
     "name": "stdout",
     "output_type": "stream",
     "text": [
      "['mlb cincinnati reds shirt size xl', 'razer blackwidow chroma keyboard', 'ava viv blouse', 'leather horse statues', '24k gold plated rose']\n"
     ]
    },
    {
     "name": "stderr",
     "output_type": "stream",
     "text": [
      "100%|██████████| 3460725/3460725 [01:03<00:00, 54875.64it/s]\n"
     ]
    }
   ],
   "source": [
    "preprocessed_name = preprocess_text(x_train['name'].values)\n",
    "print(preprocessed_name[:5])\n",
    "x_train['name'] = preprocessed_name\n",
    "test_preprocessed_name=preprocess_text(x_test['name'].values)\n",
    "x_test['name']=test_preprocessed_name"
   ]
  },
  {
   "cell_type": "markdown",
   "metadata": {
    "id": "mOBJT3_R_RLh"
   },
   "source": [
    "**Correlation between features**"
   ]
  },
  {
   "cell_type": "markdown",
   "metadata": {
    "id": "RtpceQqeZlEG"
   },
   "source": [
    "**CONCLUSION:**\n",
    "1. We can conclude that all of the features except train-id has some significant effect on the price  including sentiment scores.\n",
    "2. We can tell that for shipping it is negatively related which states that lower prices requires buyers to pay and higher prices are paid mostly by seller.\n",
    "3. Also, we could see the description length (count) is positively linear so as the length of the description  increases price seems to be higher assuming mostly it would be a positive description.\n",
    "\n",
    "\n",
    "\n"
   ]
  },
  {
   "cell_type": "markdown",
   "metadata": {
    "id": "aAhMuoIBMfgM"
   },
   "source": [
    "from sklearn.model_selection import train_test_split\n",
    "x_train, x_cv, y_tr, y_cv = train_test_split(x_train, y_train, test_size=0.20)**split train data into train and cv data**"
   ]
  },
  {
   "cell_type": "code",
   "execution_count": 33,
   "metadata": {},
   "outputs": [],
   "source": [
    "from sklearn.model_selection import train_test_split\n",
    "x_train, x_cv, y_tr, y_cv = train_test_split(x_train, y_train, test_size=0.20)"
   ]
  },
  {
   "cell_type": "markdown",
   "metadata": {
    "id": "1m205kgZE1ph"
   },
   "source": [
    "# **Feature Engineering:**"
   ]
  },
  {
   "cell_type": "markdown",
   "metadata": {
    "id": "5FddiZqE03Wf"
   },
   "source": [
    "**CATEGORICAL FEATURES:**"
   ]
  },
  {
   "cell_type": "markdown",
   "metadata": {
    "id": "TyYaIVv8AWf1"
   },
   "source": [
    "**Name feature**"
   ]
  },
  {
   "cell_type": "code",
   "execution_count": 38,
   "metadata": {
    "id": "NUqmYtRu01D0"
   },
   "outputs": [],
   "source": [
    "import joblib\n",
    "import pickle\n",
    "\n",
    "vectorizer_name = CountVectorizer(binary=True)\n",
    "vectorizer_name.fit(x_train['name'].values) \n",
    "pickle.dump(vectorizer_name, open(\"vectorizer_name.pkl\",\"wb\"))\n",
    "\n",
    "train_name = vectorizer_name.transform(x_train['name'].values)\n",
    "cv_name = vectorizer_name.transform(x_cv['name'].values)\n",
    "test_name = vectorizer_name.transform(x_test['name'].values)"
   ]
  },
  {
   "cell_type": "markdown",
   "metadata": {
    "id": "kSo1QzhWVvOi"
   },
   "source": [
    "**Main category**"
   ]
  },
  {
   "cell_type": "code",
   "execution_count": 39,
   "metadata": {
    "id": "fpRMzfGZ01HE"
   },
   "outputs": [],
   "source": [
    "vectorizer_cat = CountVectorizer(binary=True)\n",
    "vectorizer_cat.fit(x_train['category_main'].values) \n",
    "pickle.dump(vectorizer_cat, open(\"vectorizer_cat.pkl\",\"wb\"))\n",
    "\n",
    "train_category_main = vectorizer_cat.transform(x_train['category_main'].values)\n",
    "cv_category_main = vectorizer_cat.transform(x_cv['category_main'].values)\n",
    "test_category_main = vectorizer_cat.transform(x_test['category_main'].values)"
   ]
  },
  {
   "cell_type": "markdown",
   "metadata": {
    "id": "w8cT3CBZVzBG"
   },
   "source": [
    "**Sub Category 1**"
   ]
  },
  {
   "cell_type": "code",
   "execution_count": 40,
   "metadata": {
    "id": "JgrmeCBU01Km"
   },
   "outputs": [],
   "source": [
    "vectorizer_sub1 = CountVectorizer(binary=True)\n",
    "vectorizer_sub1.fit(x_train['category_sub1'].values) \n",
    "pickle.dump(vectorizer_sub1, open(\"vectorizer_sub1.pkl\",\"wb\"))\n",
    "\n",
    "train_category_sub1 = vectorizer_sub1.transform(x_train['category_sub1'].values)\n",
    "cv_category_sub1 = vectorizer_sub1.transform(x_cv['category_sub1'].values)\n",
    "test_category_sub1 = vectorizer_sub1.transform(x_test['category_sub1'].values)\n"
   ]
  },
  {
   "cell_type": "markdown",
   "metadata": {
    "id": "lnHlPXoyV1EC"
   },
   "source": [
    "**Sub Category 2**"
   ]
  },
  {
   "cell_type": "code",
   "execution_count": 41,
   "metadata": {
    "id": "YK8IxP0zZrgH"
   },
   "outputs": [],
   "source": [
    "vectorizer_sub2 = CountVectorizer(binary=True)\n",
    "vectorizer_sub2.fit(x_train['category_sub2'].values)\n",
    "pickle.dump(vectorizer_sub2, open(\"vectorizer_sub2.pkl\",\"wb\"))\n",
    "\n",
    "\n",
    "train_category_sub2 = vectorizer_sub2.transform(x_train['category_sub2'].values)\n",
    "cv_category_sub2 = vectorizer_sub2.transform(x_cv['category_sub2'].values)\n",
    "test_category_sub2 = vectorizer_sub2.transform(x_test['category_sub2'].values)\n"
   ]
  },
  {
   "cell_type": "markdown",
   "metadata": {
    "id": "55ii_5hTZyFc"
   },
   "source": [
    "**Brand Name**"
   ]
  },
  {
   "cell_type": "markdown",
   "metadata": {
    "id": "UD7oM_maL43j"
   },
   "source": [
    "vectorizer = CountVectorizer(binary=True)\n",
    "vectorizer.fit(x_train['brand_name'].values) # fit has to happen only on train data\n",
    "\n",
    "# we use the fitted CountVectorizer to convert the text to vector\n",
    "train_brand_name = vectorizer.transform(x_train['brand_name'].values)\n",
    "train_brand_name = vectorizer.transform(x_test['brand_name'].values)\n",
    "\n",
    "print(\"After vectorizations\")\n",
    "print(train_brand_name.shape)\n",
    "\n",
    "print(vectorizer.get_feature_names())\n",
    "print(\"=\"*100)"
   ]
  },
  {
   "cell_type": "code",
   "execution_count": 156,
   "metadata": {
    "id": "DQH3Dvy9QpxZ"
   },
   "outputs": [],
   "source": [
    "vectorizer_brand = CountVectorizer(binary=True) \n",
    "vectorizer_brand.fit(x_train['brand_name'].values)\n",
    "pickle.dump(vectorizer_brand, open(\"vectorizer_brand.pkl\",\"wb\"))\n",
    "\n",
    "\n",
    "train_brand_name = vectorizer_brand.transform(x_train['brand_name'].values) \n",
    "cv_brand_name = vectorizer_brand.transform(x_cv['brand_name'].values) \n",
    "test_brand_name = vectorizer_brand.transform(x_test['brand_name'].values)"
   ]
  },
  {
   "cell_type": "markdown",
   "metadata": {
    "id": "wdzr-vkuZ5Kx"
   },
   "source": [
    "**Item condition**"
   ]
  },
  {
   "cell_type": "markdown",
   "metadata": {
    "id": "xAoUOR6GbbB6"
   },
   "source": [
    "[link text](https://)"
   ]
  },
  {
   "cell_type": "code",
   "execution_count": 160,
   "metadata": {
    "id": "EDYv4p2TZxsU"
   },
   "outputs": [],
   "source": [
    "from sklearn.preprocessing import OneHotEncoder\n",
    "\n",
    "item_cond = OneHotEncoder(handle_unknown='ignore')\n",
    "item_cond.fit(x_train[[\"item_condition_id\"]])\n",
    "pickle.dump(item_cond, open(\"item_cond.pkl\",\"wb\"))\n",
    "\n",
    "\n",
    "train_condition = item_cond.transform(x_train[[\"item_condition_id\"]])\n",
    "cv_condition = item_cond.transform(x_cv[[\"item_condition_id\"]])\n",
    "test_condition = item_cond.transform(x_test[[\"item_condition_id\"]])\n",
    "\n",
    "#pd.DataFrame(train_condition.toarray(), columns=oe_style.categories_).head()\n",
    "\n"
   ]
  },
  {
   "cell_type": "code",
   "execution_count": 144,
   "metadata": {},
   "outputs": [],
   "source": [
    "item_cond = pd.get_dummies(x_train[\"item_condition_id\"].values)\n",
    "pickle.dump(item_cond, open(\"item_cond.pkl\",\"wb\"))\n",
    "\n",
    "shipping_oe = pd.get_dummies(x_train[\"shipping\"].values)\n",
    "pickle.dump(shipping_oe, open(\"shipping_oe.pkl\",\"wb\"))\n",
    "\n",
    "is_branded_oe= pd.get_dummies(x_train[\"is_branded\"].values)\n",
    "pickle.dump(is_branded_oe, open(\"is_branded_oe.pkl\",\"wb\"))\n",
    "\n",
    "#one_hot_encoded_cv_predictors = pd.get_dummies(x_cv[[\"item_condition_id\"]])\n",
    "#one_hot_encoded_test_predictors = pd.get_dummies(x_test[[\"item_condition_id\"]])\n",
    "\n",
    "\n",
    "#final_train, final_test = one_hot_encoded_training_predictors.align(one_hot_encoded_test_predictors,\n",
    "                                                                   # join='left', \n",
    "                                                                   # axis=1)"
   ]
  },
  {
   "cell_type": "markdown",
   "metadata": {
    "id": "9y56vT8UiemA"
   },
   "source": [
    "**Shipping**"
   ]
  },
  {
   "cell_type": "code",
   "execution_count": 158,
   "metadata": {
    "id": "_9CahyosieNg"
   },
   "outputs": [
    {
     "data": {
      "text/html": [
       "<div>\n",
       "<style scoped>\n",
       "    .dataframe tbody tr th:only-of-type {\n",
       "        vertical-align: middle;\n",
       "    }\n",
       "\n",
       "    .dataframe tbody tr th {\n",
       "        vertical-align: top;\n",
       "    }\n",
       "\n",
       "    .dataframe thead tr th {\n",
       "        text-align: left;\n",
       "    }\n",
       "</style>\n",
       "<table border=\"1\" class=\"dataframe\">\n",
       "  <thead>\n",
       "    <tr>\n",
       "      <th></th>\n",
       "      <th>0</th>\n",
       "      <th>1</th>\n",
       "    </tr>\n",
       "  </thead>\n",
       "  <tbody>\n",
       "    <tr>\n",
       "      <th>0</th>\n",
       "      <td>1.0</td>\n",
       "      <td>0.0</td>\n",
       "    </tr>\n",
       "    <tr>\n",
       "      <th>1</th>\n",
       "      <td>0.0</td>\n",
       "      <td>1.0</td>\n",
       "    </tr>\n",
       "    <tr>\n",
       "      <th>2</th>\n",
       "      <td>1.0</td>\n",
       "      <td>0.0</td>\n",
       "    </tr>\n",
       "    <tr>\n",
       "      <th>3</th>\n",
       "      <td>0.0</td>\n",
       "      <td>1.0</td>\n",
       "    </tr>\n",
       "    <tr>\n",
       "      <th>4</th>\n",
       "      <td>0.0</td>\n",
       "      <td>1.0</td>\n",
       "    </tr>\n",
       "  </tbody>\n",
       "</table>\n",
       "</div>"
      ],
      "text/plain": [
       "     0    1\n",
       "0  1.0  0.0\n",
       "1  0.0  1.0\n",
       "2  1.0  0.0\n",
       "3  0.0  1.0\n",
       "4  0.0  1.0"
      ]
     },
     "execution_count": 158,
     "metadata": {},
     "output_type": "execute_result"
    }
   ],
   "source": [
    "shipping_oe= OneHotEncoder(handle_unknown='ignore')\n",
    "shipping_oe.fit(x_train[[\"shipping\"]])\n",
    "pickle.dump(shipping_oe, open(\"shipping_oe.pkl\",\"wb\"))\n",
    "\n",
    "train_shipping = shipping_oe.transform(x_train[[\"shipping\"]])\n",
    "cv_shipping = shipping_oe.transform(x_cv[[\"shipping\"]])\n",
    "test_shipping = shipping_oe.transform(x_test[[\"shipping\"]])\n",
    "\n",
    "pd.DataFrame(train_shipping.toarray(), columns=oe_style.categories_).head()"
   ]
  },
  {
   "cell_type": "markdown",
   "metadata": {
    "id": "xwVw1zUImoL8"
   },
   "source": [
    "**Is Branded**"
   ]
  },
  {
   "cell_type": "code",
   "execution_count": 161,
   "metadata": {
    "id": "vAg8ORxcmncO"
   },
   "outputs": [
    {
     "data": {
      "text/html": [
       "<div>\n",
       "<style scoped>\n",
       "    .dataframe tbody tr th:only-of-type {\n",
       "        vertical-align: middle;\n",
       "    }\n",
       "\n",
       "    .dataframe tbody tr th {\n",
       "        vertical-align: top;\n",
       "    }\n",
       "\n",
       "    .dataframe thead tr th {\n",
       "        text-align: left;\n",
       "    }\n",
       "</style>\n",
       "<table border=\"1\" class=\"dataframe\">\n",
       "  <thead>\n",
       "    <tr>\n",
       "      <th></th>\n",
       "      <th>0</th>\n",
       "      <th>1</th>\n",
       "    </tr>\n",
       "  </thead>\n",
       "  <tbody>\n",
       "    <tr>\n",
       "      <th>0</th>\n",
       "      <td>0.0</td>\n",
       "      <td>1.0</td>\n",
       "    </tr>\n",
       "    <tr>\n",
       "      <th>1</th>\n",
       "      <td>0.0</td>\n",
       "      <td>1.0</td>\n",
       "    </tr>\n",
       "    <tr>\n",
       "      <th>2</th>\n",
       "      <td>1.0</td>\n",
       "      <td>0.0</td>\n",
       "    </tr>\n",
       "    <tr>\n",
       "      <th>3</th>\n",
       "      <td>1.0</td>\n",
       "      <td>0.0</td>\n",
       "    </tr>\n",
       "    <tr>\n",
       "      <th>4</th>\n",
       "      <td>1.0</td>\n",
       "      <td>0.0</td>\n",
       "    </tr>\n",
       "  </tbody>\n",
       "</table>\n",
       "</div>"
      ],
      "text/plain": [
       "     0    1\n",
       "0  0.0  1.0\n",
       "1  0.0  1.0\n",
       "2  1.0  0.0\n",
       "3  1.0  0.0\n",
       "4  1.0  0.0"
      ]
     },
     "execution_count": 161,
     "metadata": {},
     "output_type": "execute_result"
    }
   ],
   "source": [
    "is_branded_oe = OneHotEncoder(handle_unknown='ignore')\n",
    "is_branded_oe.fit(x_train[[\"is_branded\"]])\n",
    "pickle.dump(is_branded_oe, open(\"is_branded_oe.pkl\",\"wb\"))\n",
    "\n",
    "\n",
    "cv_is_branded = is_branded_oe.transform(x_cv[[\"is_branded\"]])\n",
    "test_is_branded = is_branded_oe.transform(x_test[[\"is_branded\"]])\n",
    "\n",
    "pd.DataFrame(train_is_branded.toarray(), columns=oe_style.categories_).head()"
   ]
  },
  {
   "cell_type": "markdown",
   "metadata": {
    "id": "wUIsSUwGjOS3"
   },
   "source": [
    "# ***Text Features***"
   ]
  },
  {
   "cell_type": "code",
   "execution_count": 47,
   "metadata": {
    "id": "5Z7zP77ejKD-"
   },
   "outputs": [],
   "source": [
    "from sklearn.feature_extraction.text import TfidfVectorizer\n",
    "vectorizer_item = TfidfVectorizer(ngram_range=(1,2), min_df=10)\n",
    "vectorizer_item.fit(x_train['preprocessed_item_description'])\n",
    "pickle.dump(vectorizer_item, open(\"vectorizer_item.pkl\",\"wb\"))\n",
    "\n",
    "X_train_itemdes = vectorizer_item.transform(x_train['preprocessed_item_description'])\n",
    "X_cv_itemdes = vectorizer_item.transform(x_cv['preprocessed_item_description'])\n",
    "X_test_itemdes = vectorizer_item.transform(x_test['preprocessed_item_description'])\n"
   ]
  },
  {
   "cell_type": "markdown",
   "metadata": {
    "id": "thDhyWt22Myz"
   },
   "source": [
    "**Numerical features**"
   ]
  },
  {
   "cell_type": "markdown",
   "metadata": {
    "id": "lLH9T6T91anm"
   },
   "source": [
    "from sklearn.preprocessing import MinMaxScaler \n",
    "normalizer = MinMaxScaler(feature_range=(-1, 1))\n",
    "\n",
    "normalizer.fit(x_train['negative'].values.reshape(-1,1))\n",
    "\n",
    "X_train_neg_norm = normalizer.transform(x_train['negative'].values.reshape(-1,1))\n",
    "X_cv_neg_norm = normalizer.transform(x_cv['negative'].values.reshape(-1,1))\n",
    "X_test_neg_norm = normalizer.transform(x_test['negative'].values.reshape(-1,1))"
   ]
  },
  {
   "cell_type": "markdown",
   "metadata": {
    "id": "21Zp4h1c1ete"
   },
   "source": [
    "normalizer = MinMaxScaler(feature_range=(-1, 1))\n",
    "normalizer.fit(x_train['neutral'].values.reshape(-1,1))\n",
    "\n",
    "X_train_neu_norm = normalizer.transform(x_train['neutral'].values.reshape(-1,1))\n",
    "X_cv_neu_norm = normalizer.transform(x_cv['neutral'].values.reshape(-1,1)) \n",
    "X_test_neu_norm = normalizer.transform(x_test['neutral'].values.reshape(-1,1))"
   ]
  },
  {
   "cell_type": "markdown",
   "metadata": {
    "id": "xFsGobC01g5i"
   },
   "source": [
    "normalizer = MinMaxScaler(feature_range=(-1, 1))\n",
    "\n",
    "normalizer.fit(x_train['positive'].values.reshape(-1,1))\n",
    "\n",
    "X_train_pos_norm = normalizer.transform(x_train['positive'].values.reshape(-1,1)) \n",
    "X_cv_pos_norm = normalizer.transform(x_cv['positive'].values.reshape(-1,1)) \n",
    "X_test_pos_norm = normalizer.transform(x_test['positive'].values.reshape(-1,1))"
   ]
  },
  {
   "cell_type": "markdown",
   "metadata": {
    "id": "PZXQ7I6L1i9c"
   },
   "source": [
    "normalizer =MinMaxScaler(feature_range=(-1, 1))\n",
    "\n",
    "normalizer.fit(x_train['compound'].values.reshape(-1,1))\n",
    "\n",
    "X_train_com_norm = normalizer.transform(x_train['compound'].values.reshape(-1,1))\n",
    "X_cv_com_norm = normalizer.transform(x_cv['compound'].values.reshape(-1,1))\n",
    "X_test_com_norm = normalizer.transform(x_test['compound'].values.reshape(-1,1))"
   ]
  },
  {
   "cell_type": "code",
   "execution_count": 48,
   "metadata": {
    "id": "NbxDmSSf7h2B"
   },
   "outputs": [],
   "source": [
    "from sklearn.preprocessing import MinMaxScaler"
   ]
  },
  {
   "cell_type": "code",
   "execution_count": 49,
   "metadata": {
    "id": "ID4TwgAZ6rj1"
   },
   "outputs": [],
   "source": [
    "normalizer = MinMaxScaler(feature_range=(-1, 1))\n",
    "\n",
    "normalizer.fit(x_train['count'].values.reshape(-1,1))\n",
    "\n",
    "X_train_count = normalizer.transform(x_train['count'].values.reshape(-1,1))\n",
    "X_cv_count = normalizer.transform(x_cv['count'].values.reshape(-1,1))\n",
    "X_test_count = normalizer.transform(x_test['count'].values.reshape(-1,1))"
   ]
  },
  {
   "cell_type": "code",
   "execution_count": 50,
   "metadata": {
    "id": "0dJOKTreeO4H"
   },
   "outputs": [],
   "source": [
    "normalizer = MinMaxScaler(feature_range=(-1, 1))\n",
    "\n",
    "normalizer.fit(y_tr.values.reshape(-1,1))\n",
    "\n",
    "X_train_price_norm = normalizer.transform(y_tr.values.reshape(-1,1))\n",
    "X_cv_price_norm = normalizer.transform(y_cv.values.reshape(-1,1))\n"
   ]
  },
  {
   "cell_type": "markdown",
   "metadata": {
    "id": "CYdVIVkE6hE-"
   },
   "source": [
    "**Merger sparse matrices**"
   ]
  },
  {
   "cell_type": "code",
   "execution_count": 51,
   "metadata": {
    "id": "rpqPj8Kl6gby"
   },
   "outputs": [],
   "source": [
    "from scipy.sparse import hstack\n",
    "X_tr = hstack((train_name,train_category_main,train_category_sub1,train_category_sub2, train_brand_name, train_condition, train_shipping,X_train_itemdes,train_is_branded)).tocsr()\n",
    "X_cv = hstack((cv_name,cv_category_main,cv_category_sub1,cv_category_sub2, cv_brand_name, cv_condition, cv_shipping,X_cv_itemdes,cv_is_branded)).tocsr()\n",
    "X_te = hstack((test_name,test_category_main,test_category_sub1,test_category_sub2, test_brand_name, test_condition, test_shipping,X_test_itemdes,test_is_branded)).tocsr()\n"
   ]
  },
  {
   "cell_type": "code",
   "execution_count": 116,
   "metadata": {},
   "outputs": [
    {
     "data": {
      "text/html": [
       "<div>\n",
       "<style scoped>\n",
       "    .dataframe tbody tr th:only-of-type {\n",
       "        vertical-align: middle;\n",
       "    }\n",
       "\n",
       "    .dataframe tbody tr th {\n",
       "        vertical-align: top;\n",
       "    }\n",
       "\n",
       "    .dataframe thead th {\n",
       "        text-align: right;\n",
       "    }\n",
       "</style>\n",
       "<table border=\"1\" class=\"dataframe\">\n",
       "  <thead>\n",
       "    <tr style=\"text-align: right;\">\n",
       "      <th></th>\n",
       "      <th>1</th>\n",
       "      <th>2</th>\n",
       "      <th>3</th>\n",
       "      <th>4</th>\n",
       "      <th>5</th>\n",
       "    </tr>\n",
       "  </thead>\n",
       "  <tbody>\n",
       "    <tr>\n",
       "      <th>0</th>\n",
       "      <td>1</td>\n",
       "      <td>0</td>\n",
       "      <td>0</td>\n",
       "      <td>0</td>\n",
       "      <td>0</td>\n",
       "    </tr>\n",
       "    <tr>\n",
       "      <th>1</th>\n",
       "      <td>0</td>\n",
       "      <td>0</td>\n",
       "      <td>1</td>\n",
       "      <td>0</td>\n",
       "      <td>0</td>\n",
       "    </tr>\n",
       "    <tr>\n",
       "      <th>2</th>\n",
       "      <td>0</td>\n",
       "      <td>0</td>\n",
       "      <td>1</td>\n",
       "      <td>0</td>\n",
       "      <td>0</td>\n",
       "    </tr>\n",
       "    <tr>\n",
       "      <th>3</th>\n",
       "      <td>1</td>\n",
       "      <td>0</td>\n",
       "      <td>0</td>\n",
       "      <td>0</td>\n",
       "      <td>0</td>\n",
       "    </tr>\n",
       "    <tr>\n",
       "      <th>4</th>\n",
       "      <td>1</td>\n",
       "      <td>0</td>\n",
       "      <td>0</td>\n",
       "      <td>0</td>\n",
       "      <td>0</td>\n",
       "    </tr>\n",
       "    <tr>\n",
       "      <th>...</th>\n",
       "      <td>...</td>\n",
       "      <td>...</td>\n",
       "      <td>...</td>\n",
       "      <td>...</td>\n",
       "      <td>...</td>\n",
       "    </tr>\n",
       "    <tr>\n",
       "      <th>1185323</th>\n",
       "      <td>0</td>\n",
       "      <td>1</td>\n",
       "      <td>0</td>\n",
       "      <td>0</td>\n",
       "      <td>0</td>\n",
       "    </tr>\n",
       "    <tr>\n",
       "      <th>1185324</th>\n",
       "      <td>0</td>\n",
       "      <td>1</td>\n",
       "      <td>0</td>\n",
       "      <td>0</td>\n",
       "      <td>0</td>\n",
       "    </tr>\n",
       "    <tr>\n",
       "      <th>1185325</th>\n",
       "      <td>1</td>\n",
       "      <td>0</td>\n",
       "      <td>0</td>\n",
       "      <td>0</td>\n",
       "      <td>0</td>\n",
       "    </tr>\n",
       "    <tr>\n",
       "      <th>1185326</th>\n",
       "      <td>1</td>\n",
       "      <td>0</td>\n",
       "      <td>0</td>\n",
       "      <td>0</td>\n",
       "      <td>0</td>\n",
       "    </tr>\n",
       "    <tr>\n",
       "      <th>1185327</th>\n",
       "      <td>0</td>\n",
       "      <td>1</td>\n",
       "      <td>0</td>\n",
       "      <td>0</td>\n",
       "      <td>0</td>\n",
       "    </tr>\n",
       "  </tbody>\n",
       "</table>\n",
       "<p>1185328 rows × 5 columns</p>\n",
       "</div>"
      ],
      "text/plain": [
       "         1  2  3  4  5\n",
       "0        1  0  0  0  0\n",
       "1        0  0  1  0  0\n",
       "2        0  0  1  0  0\n",
       "3        1  0  0  0  0\n",
       "4        1  0  0  0  0\n",
       "...     .. .. .. .. ..\n",
       "1185323  0  1  0  0  0\n",
       "1185324  0  1  0  0  0\n",
       "1185325  1  0  0  0  0\n",
       "1185326  1  0  0  0  0\n",
       "1185327  0  1  0  0  0\n",
       "\n",
       "[1185328 rows x 5 columns]"
      ]
     },
     "execution_count": 116,
     "metadata": {},
     "output_type": "execute_result"
    }
   ],
   "source": [
    "features_2 = pd.get_dummies(x_train['item_condition_id'].values,sparse=True)\n",
    "features_2"
   ]
  },
  {
   "cell_type": "code",
   "execution_count": 119,
   "metadata": {},
   "outputs": [
    {
     "ename": "NameError",
     "evalue": "name 'concat' is not defined",
     "output_type": "error",
     "traceback": [
      "\u001b[0;31m---------------------------------------------------------------------------\u001b[0m",
      "\u001b[0;31mNameError\u001b[0m                                 Traceback (most recent call last)",
      "\u001b[0;32m<ipython-input-119-6995ceb92179>\u001b[0m in \u001b[0;36m<module>\u001b[0;34m\u001b[0m\n\u001b[0;32m----> 1\u001b[0;31m \u001b[0mconcat\u001b[0m\u001b[0;34m.\u001b[0m\u001b[0mshape\u001b[0m\u001b[0;34m\u001b[0m\u001b[0;34m\u001b[0m\u001b[0m\n\u001b[0m",
      "\u001b[0;31mNameError\u001b[0m: name 'concat' is not defined"
     ]
    }
   ],
   "source": [
    "concat.shape"
   ]
  },
  {
   "cell_type": "code",
   "execution_count": 118,
   "metadata": {},
   "outputs": [
    {
     "data": {
      "text/plain": [
       "<1x5 sparse matrix of type '<class 'numpy.float64'>'\n",
       "\twith 1 stored elements in Compressed Sparse Row format>"
      ]
     },
     "execution_count": 118,
     "metadata": {},
     "output_type": "execute_result"
    }
   ],
   "source": [
    "train_condition[0]"
   ]
  },
  {
   "cell_type": "markdown",
   "metadata": {
    "id": "-AK5bmQRPMtR"
   },
   "source": [
    "**ML MODELLING**"
   ]
  },
  {
   "cell_type": "markdown",
   "metadata": {
    "id": "zjcuJ_l8XWt2"
   },
   "source": [
    "**RIDGE REGRESSOR**\n",
    "https://www.statisticshowto.com/ridge-regression/#:~:text=Ridge%20regression%20is%20a%20way,(correlations%20between%20predictor%20variables).\n",
    "\n",
    "https://towardsdatascience.com/ridge-regression-for-better-usage-2f19b3a202db"
   ]
  },
  {
   "cell_type": "code",
   "execution_count": null,
   "metadata": {
    "id": "XOJ5Aspu4lkg"
   },
   "outputs": [],
   "source": [
    "from sklearn.linear_model import SGDRegressor, Ridge\n"
   ]
  },
  {
   "cell_type": "code",
   "execution_count": null,
   "metadata": {
    "id": "s9g0dasd6m-g"
   },
   "outputs": [],
   "source": [
    "params = {\"alpha\":[0.000001,0.00001,0.0001,0.001,0.01,0.1,0,1,10,100,1000,10000,100000]}\n",
    "ridge_model = Ridge(solver = \"lsqr\", fit_intercept=False)\n",
    "lr_reg = RandomizedSearchCV(ridge_model,param_distributions =params,n_jobs=-1,random_state=0)\n",
    "lr_reg.fit(X_tr, y_tr)\n",
    "lr_reg.best_params_"
   ]
  },
  {
   "cell_type": "code",
   "execution_count": null,
   "metadata": {
    "id": "e21mpZczHPwG"
   },
   "outputs": [],
   "source": [
    "ridge_model2 = Ridge(alpha=0.01,solver = \"lsqr\", fit_intercept=False )\n",
    "ridge_model2.fit(X_tr, y_tr)\n",
    "y_pred = ridge_model2.predict(X_cv)\n",
    "ridge_RMSLE = np.sqrt(mean_squared_error(y_cv, y_pred))\n",
    "print(ridge_RMSLE)"
   ]
  },
  {
   "cell_type": "code",
   "execution_count": null,
   "metadata": {
    "id": "OelREhSQPDQP"
   },
   "outputs": [],
   "source": [
    "ridge_model2 = Ridge(alpha=0.01,solver = \"lsqr\", fit_intercept=False )\n",
    "ridge_model2.fit(X_tr, y_tr)\n",
    "pred_ridge = ridge_model2.predict(X_te)\n",
    "print(pred_ridge)\n"
   ]
  },
  {
   "cell_type": "code",
   "execution_count": null,
   "metadata": {
    "id": "9oDfjk2qYb5_"
   },
   "outputs": [],
   "source": [
    "submission_final['price'] = np.expm1(pred_ridge)\n",
    "submission_final.to_csv(\"submission_price2.csv\", index=False)"
   ]
  },
  {
   "cell_type": "markdown",
   "metadata": {
    "id": "NHOUa_Fcz1ak"
   },
   "source": [
    "**STOCHASTIC GRADIENT DESCENT REGRESSOR**"
   ]
  },
  {
   "cell_type": "code",
   "execution_count": null,
   "metadata": {
    "id": "caKNGYT_Hb6C"
   },
   "outputs": [],
   "source": [
    "params2 = {\"alpha\":[0.0001,0.001,0.01,0.1,0,1,10,100]}\n",
    "model_sgd = SGDRegressor(loss='epsilon_insensitive',learning_rate='adaptive',max_iter=5,penalty='l2',fit_intercept=False,early_stopping=True)\n",
    "sgd_reg = RandomizedSearchCV(model_sgd,param_distributions =params2,n_jobs=-1,random_state=1)\n",
    "sgd_reg.fit(X_tr, y_tr)"
   ]
  },
  {
   "cell_type": "code",
   "execution_count": null,
   "metadata": {
    "id": "YayGhM3V4pSr"
   },
   "outputs": [],
   "source": [
    "sgd_reg.best_params_\n"
   ]
  },
  {
   "cell_type": "code",
   "execution_count": null,
   "metadata": {
    "id": "bqHOlat_4ph9"
   },
   "outputs": [],
   "source": [
    "model_sgd2 = SGDRegressor(penalty='l2',loss='epsilon_insensitive',learning_rate='adaptive',max_iter=5,fit_intercept=False,alpha=0,\n",
    "                     early_stopping=True)\n",
    "model_sgd2.fit(X_tr, y_tr)"
   ]
  },
  {
   "cell_type": "code",
   "execution_count": null,
   "metadata": {
    "id": "SR6xy0CO4t3Z"
   },
   "outputs": [],
   "source": [
    "y_cv_pred = model_sgd2.predict(X_cv)\n",
    "sgd_score = np.sqrt(mean_squared_error(y_cv, y_cv_pred))\n",
    "print(sgd_score)"
   ]
  },
  {
   "cell_type": "code",
   "execution_count": null,
   "metadata": {
    "id": "6DYeeUE147cv"
   },
   "outputs": [],
   "source": [
    "model_sgd3 = SGDRegressor(alpha=0,penalty='l2',loss='epsilon_insensitive',learning_rate='adaptive',max_iter=5,fit_intercept=False)\n",
    "model_sgd3.fit(X_tr, y_tr)\n",
    "pred_sgd2 = model_sgd3.predict(X_te)\n",
    "print(pred_sgd2)"
   ]
  },
  {
   "cell_type": "code",
   "execution_count": null,
   "metadata": {
    "id": "iasB8lfm3D2l"
   },
   "outputs": [],
   "source": [
    "submission_final['price'] = np.expm1(pred_sgd2)\n",
    "submission_final.to_csv(\"submission_price_sgd.csv\", index=False)"
   ]
  },
  {
   "cell_type": "markdown",
   "metadata": {
    "id": "SDOT7cdPEYr8"
   },
   "source": [
    "**LIGHT GBM REGRESSOOR**"
   ]
  },
  {
   "cell_type": "code",
   "execution_count": null,
   "metadata": {
    "id": "_4DaeM1344D2"
   },
   "outputs": [],
   "source": [
    "pip install lightgbm\n"
   ]
  },
  {
   "cell_type": "code",
   "execution_count": null,
   "metadata": {
    "id": "ahxUkpP5EXz4"
   },
   "outputs": [],
   "source": [
    "from lightgbm import LGBMRegressor\n",
    "params = {'learning_rate': [ 0.1,0.2,0.3,0.4,0.5],'n_estimators': [100,150, 200,250,300,400,500],\n",
    "              'num_leaves': [20,30,63,80,100,120],'boosting_type' : ['gbdt'], 'max_depth' : [2,3,4,5,6,7,8]}\n",
    "\n",
    "lgbm_params ={'subsample': 0.9, 'colsample_bytree': 0.8, 'min_child_samples': 50, 'objective': 'regression'}\n",
    "\n",
    "lgb_model = LGBMRegressor(**lgbm_params,n_jobs=-1)\n",
    "lgbm = RandomizedSearchCV(lgb_model, params, verbose=1, cv=3)\n",
    "lgbm.fit(X_tr, y_tr)\n",
    "print('Best hyper-parameters:', lgbm.best_params_)\n",
    "print('Best score:', lgbm.best_score_)"
   ]
  },
  {
   "cell_type": "code",
   "execution_count": null,
   "metadata": {
    "id": "JDvDtZTgEvuv"
   },
   "outputs": [],
   "source": [
    "lgbm_params ={'subsample': 0.9, 'colsample_bytree': 0.8, \n",
    "              'min_child_samples': 50, 'objective': 'regression',\n",
    "              'boosting_type': 'gbdt','learning_rate': 0.4,\n",
    "              'max_depth': 7,'n_estimators': 400,\n",
    "              'num_leaves': 30 }\n",
    "lgb_model2 = LGBMRegressor(**lgbm_params)\n",
    "lgb_model2.fit(X_tr, y_tr)\n",
    "preds2 = lgb_model2.predict(X_cv)\n",
    "lgbm_score = np.sqrt(mean_squared_error(y_cv, preds2))\n",
    "print(lgbm_score)"
   ]
  },
  {
   "cell_type": "code",
   "execution_count": null,
   "metadata": {
    "id": "caRL2Zb6PgAq"
   },
   "outputs": [],
   "source": [
    "lgbm_params ={'subsample': 0.9, 'colsample_bytree': 0.8,  'min_child_samples': 50, 'objective': 'regression','boosting_type': 'gbdt','learning_rate': 0.4,\n",
    "              'max_depth': 7,'n_estimators': 400, 'num_leaves': 30 }\n",
    "lgb_model2 = LGBMRegressor(**lgbm_params)\n",
    "lgb_model2.fit(X_tr, y_tr)\n",
    "preds_lgbm = lgb_model2.predict(X_te)\n",
    "print(preds_lgbm)"
   ]
  },
  {
   "cell_type": "code",
   "execution_count": null,
   "metadata": {
    "id": "8hUbJy6u3Ky8"
   },
   "outputs": [],
   "source": [
    "submission_final['price'] = np.expm1(preds_lgbm)\n",
    "submission_final.to_csv(\"submission_price_lgbm.csv\", index=False)"
   ]
  },
  {
   "cell_type": "markdown",
   "metadata": {
    "id": "-LMlmMuwWg_p"
   },
   "source": [
    "# **MLP**"
   ]
  },
  {
   "cell_type": "code",
   "execution_count": 34,
   "metadata": {
    "id": "KnA_hOFhoHZ1"
   },
   "outputs": [
    {
     "name": "stdout",
     "output_type": "stream",
     "text": [
      "Requirement already satisfied: fastcache in /opt/anaconda3/lib/python3.8/site-packages (1.1.0)\n"
     ]
    }
   ],
   "source": [
    "!pip install fastcache \n"
   ]
  },
  {
   "cell_type": "code",
   "execution_count": 35,
   "metadata": {
    "id": "M8bh2IzK1mHV"
   },
   "outputs": [],
   "source": [
    "\n",
    "import numpy as np\n",
    "import pandas as pd\n",
    "import matplotlib.pyplot as plt\n",
    "%matplotlib inline \n",
    "import keras\n",
    "from scipy.sparse import csr_matrix\n",
    "from scipy.sparse import hstack\n",
    "\n",
    "import gc\n",
    "import re\n",
    "import math\n",
    "from time import time\n",
    "from collections import Counter\n",
    "import tensorflow as tf\n",
    "import csv\n",
    "\n",
    "\n",
    "from sklearn.preprocessing import LabelEncoder, MinMaxScaler, StandardScaler\n",
    "from sklearn.model_selection import train_test_split\n",
    "from sklearn.feature_extraction.text import TfidfVectorizer\n",
    "\n",
    "\n",
    "from nltk.tokenize import RegexpTokenizer\n",
    "from nltk.corpus import stopwords\n",
    "from tensorflow.keras.models import Model,load_model\n",
    "\n",
    "from keras.layers import Input, Dense, BatchNormalization, Activation\n",
    "from keras.models import Model\n",
    "from keras import backend as K\n",
    "from keras.optimizers import Adam\n",
    "from keras.callbacks import EarlyStopping,ModelCheckpoint\n",
    "from keras.layers import Dense, Dropout, Activation, Input\n",
    "from sklearn.metrics import mean_squared_log_error"
   ]
  },
  {
   "cell_type": "code",
   "execution_count": 36,
   "metadata": {
    "id": "3IHrfwj8FLgA"
   },
   "outputs": [],
   "source": [
    "def rmsle(y, y_pred):\n",
    "    assert len(y) == len(y_pred)\n",
    "    to_sum = [(math.log(y_pred[i] + 1) - math.log(y[i] + 1)) ** 2.0 for i,pred in enumerate(y_pred)]\n",
    "    return (sum(to_sum) * (1.0/len(y))) ** 0.5"
   ]
  },
  {
   "cell_type": "code",
   "execution_count": 37,
   "metadata": {},
   "outputs": [
    {
     "name": "stdout",
     "output_type": "stream",
     "text": [
      "Requirement already satisfied: dill in /opt/anaconda3/lib/python3.8/site-packages (0.3.4)\n"
     ]
    }
   ],
   "source": [
    "!pip install dill"
   ]
  },
  {
   "cell_type": "code",
   "execution_count": 38,
   "metadata": {
    "id": "mBtCshj1v9qi"
   },
   "outputs": [],
   "source": [
    "import dill\n",
    "import pickle\n",
    "\n"
   ]
  },
  {
   "cell_type": "markdown",
   "metadata": {
    "id": "U457lRQYw8Nq"
   },
   "source": [
    "**Model**"
   ]
  },
  {
   "cell_type": "code",
   "execution_count": 39,
   "metadata": {
    "id": "BKG-PTu6KmSb"
   },
   "outputs": [],
   "source": [
    "#ref model architecture:https://www.kaggle.com/agrigorev/tensorflow-starter-conv1d-embeddings-0-442-lb/code\n",
    "#https://github.com/pjankiewicz/mercari-solution/blob/master/presentation/build/yandex.pdf\n",
    "#https://www.kaggle.com/luisgarcia/keras-nn-with-parallelized-batch-training/comments#271137\n",
    "#model architecture inspired by ideas from winners\n",
    "def mlp_model(data):\n",
    "    x = Input(shape = (data.shape[1], ), dtype = 'float32', sparse = True)     \n",
    "    d1 = Dense(192, kernel_initializer='normal',activation='relu')(x)\n",
    "    d2 = Dense(64, kernel_initializer='normal', activation='relu')(d1)\n",
    "    d3 = Dense(64, kernel_initializer='normal', activation='relu')(d2)\n",
    "    d4 = Dense(32, kernel_initializer='normal', activation='relu')(d3)\n",
    "    #d3 = Dropout(0.15)(d3,training=True)\n",
    "    out= Dense(1, kernel_initializer='normal')(d4)\n",
    "    model = Model(x,out)\n",
    "    model.summary()\n",
    "    return model"
   ]
  },
  {
   "cell_type": "code",
   "execution_count": 40,
   "metadata": {},
   "outputs": [],
   "source": [
    "ycv=np.expm1(y_cv.values.reshape(-1,1))+1"
   ]
  },
  {
   "cell_type": "code",
   "execution_count": null,
   "metadata": {},
   "outputs": [],
   "source": [
    "ycv"
   ]
  },
  {
   "cell_type": "code",
   "execution_count": 88,
   "metadata": {
    "id": "MWEVfwYSKw38"
   },
   "outputs": [
    {
     "name": "stdout",
     "output_type": "stream",
     "text": [
      "Model: \"model\"\n",
      "_________________________________________________________________\n",
      "Layer (type)                 Output Shape              Param #   \n",
      "=================================================================\n",
      "input_1 (InputLayer)         [(None, 363999)]          0         \n",
      "_________________________________________________________________\n",
      "dense (Dense)                (None, 192)               69888000  \n",
      "_________________________________________________________________\n",
      "dense_1 (Dense)              (None, 64)                12352     \n",
      "_________________________________________________________________\n",
      "dense_2 (Dense)              (None, 64)                4160      \n",
      "_________________________________________________________________\n",
      "dense_3 (Dense)              (None, 32)                2080      \n",
      "_________________________________________________________________\n",
      "dense_4 (Dense)              (None, 1)                 33        \n",
      "=================================================================\n",
      "Total params: 69,906,625\n",
      "Trainable params: 69,906,625\n",
      "Non-trainable params: 0\n",
      "_________________________________________________________________\n",
      "WARNING:tensorflow:`write_grads` will be ignored in TensorFlow 2.0 for the `TensorBoard` Callback.\n",
      "4631/4631 [==============================] - 2302s 494ms/step - loss: 0.5528 - root_mean_squared_error: 0.9552 - val_loss: 0.1913 - val_root_mean_squared_error: 0.5094\n",
      "\n",
      "Epoch 00001: val_loss improved from inf to 0.19125, saving model to baseline_mlp_model_epochs:001-val_loss:0.191.hdf5\n",
      "Test RMSLE for batch size =  256  is  0.4279253613857784 \n",
      "\n",
      "2316/2316 [==============================] - 1132s 488ms/step - loss: 0.1385 - root_mean_squared_error: 0.4710 - val_loss: 0.1833 - val_root_mean_squared_error: 0.4482\n",
      "\n",
      "Epoch 00001: val_loss improved from 0.19125 to 0.18330, saving model to baseline_mlp_model_epochs:001-val_loss:0.183.hdf5\n",
      "Test RMSLE for batch size =  512  is  0.4141544014232534 \n",
      "\n",
      "1158/1158 [==============================] - 588s 506ms/step - loss: 0.0911 - root_mean_squared_error: 0.4271 - val_loss: 0.1870 - val_root_mean_squared_error: 0.4117\n",
      "\n",
      "Epoch 00001: val_loss did not improve from 0.18330\n",
      "Test RMSLE for batch size =  1024  is  0.42116558920372144 \n",
      "\n",
      "579/579 [==============================] - 308s 528ms/step - loss: 0.0598 - root_mean_squared_error: 0.3968 - val_loss: 0.1910 - val_root_mean_squared_error: 0.3847\n",
      "\n",
      "Epoch 00001: val_loss did not improve from 0.18330\n",
      "Test RMSLE for batch size =  2048  is  0.4256604591573294 \n",
      "\n"
     ]
    }
   ],
   "source": [
    "model1 = mlp_model(X_tr)\n",
    "#monitor = EarlyStopping(monitor='val_loss', min_delta=1e-3, patience=2, verbose=1, mode='auto')\n",
    "model1.compile(loss='mean_squared_error', optimizer=Adam(lr=0.001), metrics=[tf.keras.metrics.RootMeanSquaredError()])\n",
    "filepath = \"baseline_mlp_model_epochs:{epoch:03d}-val_loss:{val_loss:.3f}.hdf5\"\n",
    "checkpoint = ModelCheckpoint(filepath,monitor=\"val_loss\",mode=\"min\",save_best_only = True,verbose = 1)\n",
    "tensorboard_callback = keras.callbacks.TensorBoard(log_dir='./Graph2',histogram_freq=1, write_graph=True,write_grads=True,write_images=True)\n",
    "#tensorboard_callback.set_model(model1)\n",
    "callbacks_list = [checkpoint,tensorboard_callback]\n",
    "\n",
    "#running different batch sizes inspired by kaggles first price winner\n",
    "for i in range(4):\n",
    "    model1.fit(x=X_tr.tocsr(),y=y_tr.values.reshape(-1,1),batch_size=(2**(8+i)),epochs=1,verbose=1, validation_data=(X_cv.tocsr(), y_cv.values.reshape(-1,1)),callbacks = callbacks_list)\n",
    "    preds = model1.predict(X_cv.tocsr())[:, 0]\n",
    "    y_pred = np.expm1(preds)\n",
    "    print('Test RMSLE for batch size = ',2**(8 + i),' is ',rmsle(ycv , y_pred),'\\n')  \n"
   ]
  },
  {
   "cell_type": "code",
   "execution_count": null,
   "metadata": {},
   "outputs": [],
   "source": [
    "mlp_pred=model1.predict(X_te.tocsr())"
   ]
  },
  {
   "cell_type": "code",
   "execution_count": null,
   "metadata": {},
   "outputs": [],
   "source": [
    "mlp=model1.fit(x=X_tr.tocsr(),y=y_tr.values.reshape(-1,1),batch_size=256,epochs=1,verbose=1)\n"
   ]
  },
  {
   "cell_type": "code",
   "execution_count": 89,
   "metadata": {},
   "outputs": [],
   "source": [
    "best_model = load_model('baseline_mlp_model_epochs:001-val_loss:0.183.hdf5')\n",
    "\n",
    "preds = best_model.predict(X_te.tocsr())[:, 0]"
   ]
  },
  {
   "cell_type": "code",
   "execution_count": null,
   "metadata": {
    "id": "UIdqurZgMMcR"
   },
   "outputs": [],
   "source": [
    "filename = 'finalized_model.sav'\n",
    "pickle.dump(model1, open(filename, 'wb'))"
   ]
  },
  {
   "cell_type": "code",
   "execution_count": null,
   "metadata": {
    "id": "IcsvxBf6UirW"
   },
   "outputs": [],
   "source": [
    "\n",
    "#loaded_model = joblib.load('model.pkl')\n",
    "loaded_model=pickle.load(open(\"model.pkl\",\"rb\"))\n",
    "result = loaded_model.score(X_cv.tocsr(), y_cv.values.reshape(-1,1))\n",
    "print(result)\n"
   ]
  },
  {
   "cell_type": "code",
   "execution_count": null,
   "metadata": {
    "id": "Fm7qUMVGwSeV"
   },
   "outputs": [],
   "source": [
    "from google.colab import drive\n",
    "drive.mount('/content/drive')"
   ]
  },
  {
   "cell_type": "code",
   "execution_count": null,
   "metadata": {
    "id": "FBjpdvb0pgac"
   },
   "outputs": [],
   "source": [
    "validation_data=(X_cv, y_cv.values.reshape(-1,1))"
   ]
  },
  {
   "cell_type": "code",
   "execution_count": null,
   "metadata": {
    "id": "twS_llE4P6Tw"
   },
   "outputs": [],
   "source": [
    "mlp_pred=mlp.predict(X_te.tocsr())"
   ]
  },
  {
   "cell_type": "code",
   "execution_count": null,
   "metadata": {
    "id": "A_kQbdv3086v"
   },
   "outputs": [],
   "source": [
    "submission_final['price'] = np.expm1(preds)+1\n",
    "submission_final.to_csv(\"submission_price_mlp.csv\", index=False)"
   ]
  },
  {
   "cell_type": "markdown",
   "metadata": {
    "id": "STMXxNi1IFK0"
   },
   "source": [
    "### FINAL PREDICTION"
   ]
  },
  {
   "cell_type": "code",
   "execution_count": 41,
   "metadata": {
    "id": "2MrzOtvDnBWx"
   },
   "outputs": [],
   "source": [
    "def prediction(input_, model):\n",
    "    \"\"\"this function predicts the price basing on the trained model\"\"\"\n",
    "    batchsize = 256\n",
    "    preds = model.predict(input_.tocsr(), batch_size=batchsize)\n",
    "    preds = np.exp(preds)+1\n",
    "    return preds"
   ]
  },
  {
   "cell_type": "code",
   "execution_count": 42,
   "metadata": {
    "id": "7SS5CLoUIEAZ"
   },
   "outputs": [],
   "source": [
    "import math\n",
    "def handle_data(data):\n",
    "    def transform_category_name(category_name):\n",
    "        try:\n",
    "            main, sub1, sub2= category_name.split('/')\n",
    "            return main, sub1, sub2\n",
    "        except:\n",
    "            return ('missing', 'missing', 'missing')\n",
    "        \n",
    "    def branded(brand_name):\n",
    "        is_branded=[]\n",
    "        for i in data['brand_name']:\n",
    "            if i=='missing': \n",
    "                is_branded.append(0) \n",
    "            else: \n",
    "                is_branded.append(1)\n",
    "            return is_branded\n",
    "\n",
    "    if type(data)==type(pd.DataFrame()):   #checking if it is a dataframe or not\n",
    "        #data['category_name'].fillna(value='missing',inplace=True)\n",
    "        \n",
    "        #data['category_main'], data['category_sub1'], data['category_sub2'] = zip(*data['category_name'].apply(transform_category_name))\n",
    "        data['brand_name'].fillna(value='missing',inplace=True)\n",
    "        data['is_branded']=zip(*data['brand_name'].apply(branded))\n",
    "        data['item_description'].fillna(value='No description yet',inplace=True)\n",
    "        data['name']= data['name']\n",
    "        data['shipping']=data['shipping']\n",
    "        data['item_condition_id']=data['item_condition_id']\n",
    "        \n",
    "        if 'price' in data.columns:\n",
    "            return data[['name','item_description','brand_name','category_main','category_sub1','category_sub2','is_branded','shipping','item_condition_id','price']]\n",
    "        else:\n",
    "            return data[['name','item_description','brand_name','category_main','category_sub1','category_sub2','is_branded','shipping','item_condition_id']]\n",
    "        \n",
    "    else:      #if the given data is a data point\n",
    "       # if type(data['category_name'])==type(float()):  #checking for nan values in category_name\n",
    "            #data['category_name'].fillna(\"missing\",inplace=True)\n",
    "           # data['category_main'], data['category_sub1'], data['category_sub2'] = zip(*data['category_name'].apply(transform_category_name))\n",
    "\n",
    "        if type(data['brand_name'])==type(float()):     #checking for nan values in brand_name\n",
    "            data['brand_name'].fillna(\"missing\",inplace=True)\n",
    "            data['is_branded']=zip(*data['brand_name'].apply(branded))\n",
    "\n",
    "        if type(data['item_description'])==type(float()):  #checking for nan values in item_description\n",
    "            data['item_description'].fillna(\"No description yet\",inplace=True)\n",
    "            #data['category_main'], data['category_sub1'], data['category_sub2'] =data['category_name'].split('/')\n",
    "        if data['brand_name']=='missing': \n",
    "            data[\"is_branded\"]=0\n",
    "        else: \n",
    "            data[\"is_branded\"]=1\n",
    "        data['name']= data['name']\n",
    "        data['shipping']=data['shipping']\n",
    "        data['item_condition_id']=data['item_condition_id']\n",
    "\n",
    "        if 'price' in dict(data).keys():  #if price exits we will return it\n",
    "            return data[['name','item_description','brand_name','category_main','category_sub1','category_sub2','is_branded','shipping','item_condition_id','price']]\n",
    "        else:\n",
    "            return data[['name','item_description','brand_name','category_main','category_sub1','category_sub2','is_branded','shipping','item_condition_id']]\n",
    "    return False"
   ]
  },
  {
   "cell_type": "code",
   "execution_count": 43,
   "metadata": {},
   "outputs": [],
   "source": [
    "def price_suggestion(X):\n",
    "\n",
    "    X=handle_data(X)          \n",
    "    if 'price' in dict(X).keys():\n",
    "        target=X['price']  #checking if price contains in it or not\n",
    "    else:\n",
    "        target='we predicted it'\n",
    "    vectorizer_name=pickle.load(open(\"vectorizer_name.pkl\",\"rb\"))\n",
    "    bow_name=vectorizer_name.transform(X['name'].values)  #name vectorization\n",
    "    \n",
    "    vectorizer_item=pickle.load(open(\"vectorizer_item.pkl\", 'rb'))\n",
    "    bow_item=vectorizer_item.transform(X['item_description'].values) \n",
    "\n",
    "    vectorizer_cat=pickle.load(open(\"vectorizer_cat.pkl\",\"rb\"))\n",
    "    bow_cat=vectorizer_cat.transform(X['category_main'].values) \n",
    "    \n",
    "    vectorizer_sub1=pickle.load(open(\"vectorizer_sub1.pkl\",\"rb\"))\n",
    "    bow_sub1=vectorizer_sub1.transform(X['category_sub1'].values)\n",
    "    #text vectorization\n",
    "    \n",
    "    vectorizer_sub2=pickle.load(open(\"vectorizer_sub2.pkl\",\"rb\"))\n",
    "    bow_sub2=vectorizer_sub2.transform(X['category_sub2'].values)\n",
    "    #text vectorization\n",
    "    \n",
    "    vectorizer_brand=pickle.load(open(\"vectorizer_brand.pkl\",\"rb\"))\n",
    "    bow_brand=vectorizer_brand.transform(X['brand_name'].values)  #text vectorization\n",
    "\n",
    "    is_brand_oe=pickle.load(open(\"is_branded_oe.pkl\",\"rb\"))\n",
    "    is_brand=is_brand_oe.transform(X[['is_branded']])\n",
    "    \n",
    "    item_cond_oe=pickle.load(open(\"item_cond.pkl\",\"rb\"))\n",
    "    item_cond=item_cond_oe.transform(X[['item_condition_id']])\n",
    "    \n",
    "    shipping_oe=pickle.load(open(\"shipping_oe.pkl\",\"rb\"))\n",
    "    shipping=shipping_oe.transform(X[['shipping']])\n",
    "    \n",
    "\n",
    "\n",
    "    concat=hstack([bow_name,bow_item,bow_cat,bow_sub1,bow_sub2,bow_brand,is_brand,item_cond,shipping])   #concatinating all the features\n",
    "    best_model = load_model('baseline_mlp_model_epochs:001-val_loss:0.183.hdf5')\n",
    "\n",
    "    #preds = best_model.predict(X_te.tocsr())[:, 0]\n",
    "    predicted_price=[prediction(concat,best_model)] \n",
    "    return predicted_price[0],target  "
   ]
  },
  {
   "cell_type": "code",
   "execution_count": 48,
   "metadata": {},
   "outputs": [
    {
     "data": {
      "text/html": [
       "<div>\n",
       "<style scoped>\n",
       "    .dataframe tbody tr th:only-of-type {\n",
       "        vertical-align: middle;\n",
       "    }\n",
       "\n",
       "    .dataframe tbody tr th {\n",
       "        vertical-align: top;\n",
       "    }\n",
       "\n",
       "    .dataframe thead th {\n",
       "        text-align: right;\n",
       "    }\n",
       "</style>\n",
       "<table border=\"1\" class=\"dataframe\">\n",
       "  <thead>\n",
       "    <tr style=\"text-align: right;\">\n",
       "      <th></th>\n",
       "      <th>test_id</th>\n",
       "      <th>name</th>\n",
       "      <th>item_condition_id</th>\n",
       "      <th>brand_name</th>\n",
       "      <th>shipping</th>\n",
       "      <th>item_description</th>\n",
       "      <th>category_main</th>\n",
       "      <th>category_sub1</th>\n",
       "      <th>category_sub2</th>\n",
       "      <th>is_branded</th>\n",
       "      <th>preprocessed_item_description</th>\n",
       "      <th>count</th>\n",
       "    </tr>\n",
       "  </thead>\n",
       "  <tbody>\n",
       "    <tr>\n",
       "      <th>113</th>\n",
       "      <td>113</td>\n",
       "      <td>rue football shirt size 3x</td>\n",
       "      <td>3</td>\n",
       "      <td>rue</td>\n",
       "      <td>1</td>\n",
       "      <td>95% rayon 5% spandex</td>\n",
       "      <td>Women</td>\n",
       "      <td>Tops &amp; Blouses</td>\n",
       "      <td>T-Shirts</td>\n",
       "      <td>1</td>\n",
       "      <td>95 rayon 5 spandex</td>\n",
       "      <td>18</td>\n",
       "    </tr>\n",
       "  </tbody>\n",
       "</table>\n",
       "</div>"
      ],
      "text/plain": [
       "     test_id                        name  item_condition_id brand_name  \\\n",
       "113      113  rue football shirt size 3x                  3        rue   \n",
       "\n",
       "     shipping      item_description category_main   category_sub1  \\\n",
       "113         1  95% rayon 5% spandex         Women  Tops & Blouses   \n",
       "\n",
       "    category_sub2  is_branded preprocessed_item_description  count  \n",
       "113      T-Shirts           1            95 rayon 5 spandex     18  "
      ]
     },
     "execution_count": 48,
     "metadata": {},
     "output_type": "execute_result"
    }
   ],
   "source": [
    "x=x_test.reindex([113])\n",
    "x"
   ]
  },
  {
   "cell_type": "code",
   "execution_count": 49,
   "metadata": {
    "id": "W4bcsXhzHRyI"
   },
   "outputs": [
    {
     "name": "stdout",
     "output_type": "stream",
     "text": [
      "Predicted price for the given product is: 5.254732131958008\n"
     ]
    }
   ],
   "source": [
    "predicted,target=price_suggestion(x_test.reindex([110]))  #some random train data point.\n",
    "if target!='we predicted it':\n",
    "  print(\"Predicted price is: {} and Actual price of the product is: {}\".format(predicted,target))\n",
    "else:\n",
    "  print(\"Predicted price for the given product is: {}\".format(predicted[0]))\n"
   ]
  },
  {
   "cell_type": "code",
   "execution_count": 46,
   "metadata": {
    "id": "eavp4tIOHXIx"
   },
   "outputs": [],
   "source": [
    "from sklearn.metrics import mean_squared_error\n",
    "def error_metric(X,Y):\n",
    "  \"\"\"this function returns the rmsle error on the target and predicted score\n",
    "     Input_format: X: data point(must be 7 or 8 dimensional datapoint) (vector)\n",
    "                   Y: float \n",
    "     Output format: float (rmsle score) \"\"\"\n",
    "  predicted_score=price_suggestion(X,vectorizer_name,vectorizer_text)\n",
    "  return rmsle([Y],[predicted_score[0]])"
   ]
  },
  {
   "cell_type": "code",
   "execution_count": null,
   "metadata": {
    "id": "8JS4kgMSHc8F"
   },
   "outputs": [],
   "source": [
    "error=error_metric(train_data.iloc[110],train_data.iloc[0]['price'])  #some random train data point\n",
    "print(\"RMSLE on given datapoint is: \",error)\n",
    "\n",
    "error=error_metric(train_data.iloc[170],train_data.iloc[0]['price'])  #some random train data point\n",
    "print(\"RMSLE on given datapoint is: \",error)"
   ]
  },
  {
   "cell_type": "markdown",
   "metadata": {
    "id": "AsPXgVPT_Yrn"
   },
   "source": [
    "**CNN 1D + EMBEDDINGS**"
   ]
  },
  {
   "cell_type": "code",
   "execution_count": null,
   "metadata": {
    "id": "M6OMLAU20qSw"
   },
   "outputs": [],
   "source": [
    "pip install fastcache"
   ]
  },
  {
   "cell_type": "markdown",
   "metadata": {
    "id": "7Rc9y7CZSI_q"
   },
   "source": [
    "# **CNN**"
   ]
  },
  {
   "cell_type": "markdown",
   "metadata": {
    "id": "jSDvEvqKcnT6"
   },
   "source": [
    "glove  embeddign"
   ]
  },
  {
   "cell_type": "code",
   "execution_count": null,
   "metadata": {
    "id": "aAExMyps90vC"
   },
   "outputs": [],
   "source": [
    "from sklearn.preprocessing import Normalizer\n",
    "import tensorflow as tf\n",
    "from numpy import array\n",
    "from numpy import asarray\n",
    "from numpy import zeros\n",
    "from tensorflow.keras.preprocessing.text import Tokenizer\n",
    "from tensorflow.keras.preprocessing.sequence import pad_sequences\n",
    "from sklearn.preprocessing import LabelEncoder\n",
    "from tensorflow.keras.layers import Input, Embedding, Conv1D, Conv2D, MaxPool1D, MaxPool2D, AveragePooling1D, GlobalAveragePooling1D, \\\n",
    "                                     Flatten, Dropout, Dense, BatchNormalization, LayerNormalization, Concatenate\n",
    "from tensorflow.keras.layers import ReLU\n",
    "from tensorflow.keras.layers import LeakyReLU\n",
    "from tensorflow.keras.models import Model\n",
    "from tensorflow.keras import initializers, regularizers\n",
    "from tensorflow.keras.optimizers import Adam\n",
    "from tensorflow.keras.layers import LSTM\n",
    "from keras.utils import to_categorical\n",
    "from keras.layers import Embedding\n",
    "from keras.initializers import Constant"
   ]
  },
  {
   "cell_type": "code",
   "execution_count": null,
   "metadata": {
    "id": "gm_xNQ5oXst0"
   },
   "outputs": [],
   "source": [
    "#submodels inspired by #ref:https://github.com/chintan1995/mercari-price-suggestion-challenge/blob/4c96f71d18e9de3823323e18ca38e8ef9f5c72ae/Models/4.%20CNN_DL_Mercari_Price_Suggestion.ipynb"
   ]
  },
  {
   "cell_type": "code",
   "execution_count": null,
   "metadata": {
    "id": "8k2zybPc4RVE"
   },
   "outputs": [],
   "source": [
    "# How does embedding layer work,\n",
    "# https://stats.stackexchange.com/questions/270546/how-does-keras-embedding-layer-work\n",
    "\n",
    "filename = 'glove.6B.50d.txt'\n",
    "def text_embeddings(text_train, text_cv,text_test):\n",
    "    # Word Tokenizer\n",
    "    tokenizer = Tokenizer()\n",
    "    tokenizer.fit_on_texts(text_train)\n",
    "    encoded_docs_train = tokenizer.texts_to_sequences(text_train)\n",
    "    encoded_docs_cv = tokenizer.texts_to_sequences(text_cv)\n",
    "    encoded_docs_test = tokenizer.texts_to_sequences(text_test)\n",
    "\n",
    "# Getting the 'max len' of doc among the text_train\n",
    "    len_docs = []\n",
    "    for doc in text_train:\n",
    "        splitted_doc = doc.split()\n",
    "        len_docs.append(len(splitted_doc))\n",
    "    max_len_doc = max(len_docs)\n",
    "\n",
    "    text_train_padded = pad_sequences(encoded_docs_train, maxlen=max_len_doc, padding='post')\n",
    "    text_cv_padded = pad_sequences(encoded_docs_cv, maxlen=max_len_doc, padding='post')\n",
    "    text_test_padded = pad_sequences(encoded_docs_test, maxlen=max_len_doc, padding='post')\n",
    "#ref: https://ireneli.eu/2017/01/17/tensorflow-07-word-embeddings-2-loading-pre-trained-vectors/\n",
    "    \n",
    "    #glove embeddings:\n",
    "    vocab_size = len(tokenizer.word_index) + 1\n",
    "    embeddings_index = dict()\n",
    "    \n",
    "    with open('glove.6B.50d.txt') as f:\n",
    "\n",
    "        for line in f:\n",
    "            w_coef = line.split()\n",
    "            word = w_coef[0]\n",
    "            coefs = asarray(w_coef[1:], dtype='float32')\n",
    "            embeddings_index[word]=coefs\n",
    "\n",
    "    embedding_matrix = zeros((vocab_size, 50))\n",
    "    for word, i in tokenizer.word_index.items():\n",
    "        embedding_vector = embeddings_index.get(word)   \n",
    "            \n",
    "        if embedding_vector is not None:\n",
    "            embedding_matrix[i] = embedding_vector\n",
    "            \n",
    "    return embedding_matrix, vocab_size, max_len_doc, text_train_padded, text_cv_padded,text_test_padded"
   ]
  },
  {
   "cell_type": "code",
   "execution_count": null,
   "metadata": {
    "id": "y3LG_cdf-W5f"
   },
   "outputs": [],
   "source": [
    "def text_model_pipeline(input_len, vocab_size, embedding_matrix):\n",
    "    #sub-model for the text data using embedding layer, 1D CNN, Maxpooling.\n",
    "    input_layer = Input(shape=input_len)\n",
    "    e_layer = Embedding(input_dim=vocab_size, output_dim=50, weights=[embedding_matrix], input_length=input_len, trainable=True)(input_layer)   \n",
    "    conv_1 = Conv1D(filters=128, kernel_size=3, strides=1, padding='same', kernel_initializer=initializers.glorot_normal(seed=0), \n",
    "                activation='relu', kernel_regularizer=regularizers.l2())(e_layer)\n",
    "    conv_1 = MaxPool1D(pool_size=20, strides=1, padding='same')(conv_1)\n",
    "    conv_1 = Flatten()(conv_1)\n",
    "    out = conv_1\n",
    "    model = Model(inputs=input_layer ,outputs=out)\n",
    "    return model\n"
   ]
  },
  {
   "cell_type": "code",
   "execution_count": null,
   "metadata": {
    "id": "nNUo75LOvDuh"
   },
   "outputs": [],
   "source": [
    "x_train['concat_train_brand+name'] = x_train['name']+ \" \" + x_train['brand_name'] + \" \"+x_train['preprocessed_item_description']\n",
    "x_cv['concat_cv_brand+name']  = x_cv['name']+\" \"+ x_cv['brand_name']+\" \"+x_cv['preprocessed_item_description']\n",
    "x_test['concat_test_brand+name']  = x_test['name']+\" \"+ x_test['brand_name']+\" \"+x_test['preprocessed_item_description']\n",
    "\n",
    "desc_embedding_matrix, desc_vocab_size, desc_max_len_doc, desc_text_train_padded,desc_text_cv_padded, desc_text_test_padded = text_embeddings(x_train['preprocessed_item_description'].values,x_cv['preprocessed_item_description'].values, x_test['preprocessed_item_description'].values)                                                      \n",
    "name_embedding_matrix, name_vocab_size, name_max_len_doc, name_text_train_padded,name_text_cv_padded,name_text_test_padded = text_embeddings(x_train['concat_train_brand+name'].values, x_cv['concat_cv_brand+name'].values,x_test['concat_test_brand+name'].values)\n",
    "\n",
    "desc_flat_model = text_model_pipeline(desc_max_len_doc, desc_vocab_size, desc_embedding_matrix)\n",
    "name_flat_model = text_model_pipeline(name_max_len_doc, name_vocab_size, name_embedding_matrix)\n"
   ]
  },
  {
   "cell_type": "markdown",
   "metadata": {
    "id": "j1hhtZGfd3km"
   },
   "source": [
    "**Categorical features**"
   ]
  },
  {
   "cell_type": "code",
   "execution_count": null,
   "metadata": {
    "id": "ky7Ay4RX9012"
   },
   "outputs": [],
   "source": [
    "# Embedding categorical data\n",
    "#ref: https://stackoverflow.com/questions/21057621/sklearn-labelencoder-with-never-seen-before-values/56876351#56876351\n",
    "# https://machinelearningmastery.com/how-to-prepare-categorical-data-for-deep-learning-in-python/\n",
    "#This function will do Label encoding of the categorical feature taking unknown values into consideration   \n",
    "\n",
    "def categorical_embeddings(cat_train, cat_cv, cat_test):\n",
    "    \n",
    "    vocab_size = len(cat_train.unique())+1\n",
    "    le = LabelEncoder()\n",
    "    le.fit(cat_train.values)\n",
    "   \n",
    "    cat_cv = cat_cv.map(lambda s: '<unknown>' if s not in le.classes_ else s)\n",
    "    cat_test = cat_test.map(lambda s: '<unknown>' if s not in le.classes_ else s)\n",
    "    le.classes_ = np.append(le.classes_, '<unknown>')\n",
    "    encoded_train = le.transform(cat_train.values)\n",
    "    encoded_cv = le.transform(cat_cv.values)\n",
    "    encoded_test = le.transform(cat_test.values)\n",
    "\n",
    "    return vocab_size, encoded_train, encoded_cv , encoded_test"
   ]
  },
  {
   "cell_type": "code",
   "execution_count": null,
   "metadata": {
    "id": "xO1B1haLd6Zh"
   },
   "outputs": [],
   "source": [
    "#sub-model for the categorical data. It will use embedding layer to embedd the categories.\n",
    "\n",
    "def categorical_model_pipeline(input_len, vocab_size): \n",
    "    input_layer = Input(shape=input_len)\n",
    "    e_layer  = Embedding(input_dim=vocab_size, output_dim=32, input_length=input_len, trainable=True)(input_layer)\n",
    "    flat1 = Flatten()(e_layer)\n",
    "    out = flat1\n",
    "    model = Model(inputs=input_layer ,outputs=out)\n",
    "    return model"
   ]
  },
  {
   "cell_type": "code",
   "execution_count": null,
   "metadata": {
    "id": "4iPFDjLFipmD"
   },
   "outputs": [],
   "source": [
    "#Ref:concatenating categorical fields inspired by https://github.com/pjankiewicz/mercari-solution/blob/master/presentation/build/yandex.pdf\n",
    "#https://github.com/pjankiewicz/mercari-solution/blob/master/presentation/build/yandex.pdf\n",
    "#concatenating text features will give more insight into what the product is about. This is inspired by winners featurization techniques\n",
    "x_train['concatenating_categories'] = x_train['brand_name']+ \" \" + x_train['category_main']+ \" \" + x_train['category_sub1']+ \" \"+x_train['category_sub2']\n",
    "x_cv['concatenating_categories'] = x_cv['brand_name']+ \" \" + x_cv['category_main']+ \" \" + x_cv['category_sub1']+ \" \"+x_cv['category_sub2']\n",
    "x_test['concatenating_categories'] = x_test['brand_name']+ \" \" + x_test['category_main']+ \" \" + x_test['category_sub1']+ \" \"+x_test['category_sub2']\n",
    "\n",
    "cat_vocab_size, cat_encoded_train, cat_encoded_cv, cat_encoded_test = categorical_embeddings(x_train['concatenating_categories'], x_cv['concatenating_categories'], x_test['concatenating_categories'])\n",
    "\n",
    "\n",
    "cat_flat_model = categorical_model_pipeline(1,cat_vocab_size)"
   ]
  },
  {
   "cell_type": "markdown",
   "metadata": {
    "id": "hVp2QexOcy1t"
   },
   "source": [
    "**low cardinal categorical features**"
   ]
  },
  {
   "cell_type": "code",
   "execution_count": null,
   "metadata": {
    "id": "WDxHhmbjfRLQ"
   },
   "outputs": [],
   "source": [
    "from sklearn.preprocessing import OneHotEncoder\n",
    "\n",
    "def one_hot(X_train,X_cv,X_test):\n",
    "    ohe = OneHotEncoder(handle_unknown='ignore')\n",
    "    ohe.fit(X_train.to_numpy().reshape(-1,1))\n",
    "    X_train_enc = ohe.transform(X_train.to_numpy().reshape(-1,1))\n",
    "    X_cv_enc = ohe.transform(X_cv.to_numpy().reshape(-1,1))\n",
    "\n",
    "    X_test_enc = ohe.transform(X_test.to_numpy().reshape(-1,1))\n",
    "    return X_train_enc.toarray(),X_cv_enc.toarray(),X_test_enc.toarray()"
   ]
  },
  {
   "cell_type": "code",
   "execution_count": null,
   "metadata": {
    "id": "8B3rjz1qdCj0"
   },
   "outputs": [],
   "source": [
    "def low_cardinal_categories(input_len,layer_name):\n",
    "    input_layer = Input(shape=input_len, name=layer_name)\n",
    "    flat2 = Flatten()(input_layer)\n",
    "    out2 = flat2\n",
    "    model = Model(inputs=input_layer ,outputs=out2)\n",
    "    return model"
   ]
  },
  {
   "cell_type": "code",
   "execution_count": null,
   "metadata": {
    "id": "lFMUbx1Pc8O7"
   },
   "outputs": [],
   "source": [
    "ic_train_enc,ic_cv_enc,ic_test_enc=one_hot(x_train['item_condition_id'],x_cv['item_condition_id'], x_test['item_condition_id'])\n",
    "sh_train_enc,sh_cv_enc,sh_test_enc=one_hot(x_train['shipping'],x_cv['shipping'], x_test['shipping'])\n",
    "is_train_enc,is_cv_enc,is_test_enc=one_hot(x_train['is_branded'],x_cv['is_branded'], x_test['is_branded'])\n",
    "#pl_train_enc,pl_cv_enc,pl_test_enc=one_hot(x_train['price_level'],x_cv['price_level'], x_test['price_level'])\n",
    "#pass the encoded features to model\n",
    "ic_flat_model = low_cardinal_categories(5, 'item_condition_id')\n",
    "sh_flat_model = low_cardinal_categories(2, 'shipping')\n",
    "is_flat_model = low_cardinal_categories(2, 'is_branded')\n",
    "#pl_flat_model = low_cardinal_categories(2,'price_level')"
   ]
  },
  {
   "cell_type": "markdown",
   "metadata": {
    "id": "ntibWAqrcrhA"
   },
   "source": [
    "**Numeric features**"
   ]
  },
  {
   "cell_type": "code",
   "execution_count": null,
   "metadata": {
    "id": "CIxLiKTaccY7"
   },
   "outputs": [],
   "source": [
    "#numeric model\n",
    "def numeric_model_pipeline(input_len,layer_name):\n",
    "    input_layer = Input(shape=input_len,name=layer_name)\n",
    "    dense = Dense(units=1,activation='linear')(input_layer)\n",
    "    out = dense\n",
    "    model = Model(inputs=input_layer ,outputs=out)\n",
    "    return model"
   ]
  },
  {
   "cell_type": "code",
   "execution_count": null,
   "metadata": {
    "id": "CQ4GjjKUcnLJ"
   },
   "outputs": [],
   "source": [
    "numeric_train_input = x_train['count'].to_numpy().reshape(-1,1).shape[1]\n",
    "numeric_cv_input = x_cv['count'].to_numpy().reshape(-1,1).shape[1]\n",
    "numeric_test_input = x_test['count'].to_numpy().reshape(-1,1).shape[1]\n",
    "\n",
    "#passng to numeric model\n",
    "numeric_model = numeric_model_pipeline(numeric_train_input, 'numeric')"
   ]
  },
  {
   "cell_type": "markdown",
   "metadata": {
    "id": "7zZSLavWuC-Z"
   },
   "source": [
    "**Model**"
   ]
  },
  {
   "cell_type": "code",
   "execution_count": null,
   "metadata": {
    "id": "m2o5YTI--W8I"
   },
   "outputs": [],
   "source": [
    "#model refernce: https://www.kaggle.com/gspmoreira/cnn-glove-single-model-private-lb-0-41117-35th\n",
    "tf.keras.backend.clear_session()\n",
    "combined_layers = [desc_flat_model.output, name_flat_model.output, \n",
    "                       cat_flat_model.output,ic_flat_model.output,sh_flat_model.output,is_flat_model.output, numeric_model.output]\n",
    "concatenate_layer = Concatenate()(combined_layers)\n",
    "dense = BatchNormalization()(concatenate_layer)\n",
    "dense1 = Dense(units=256, activation='relu', kernel_regularizer=regularizers.l2(0.001) ,name=\"dense1\")(dense)\n",
    "dense2 = Dense(units=128, activation='relu', kernel_regularizer=regularizers.l2(0.001),name=\"dense2\")(dense1)\n",
    "concatenate_layer = Concatenate()([dense2, ic_flat_model.output, sh_flat_model.output,is_flat_model.output, numeric_model.output])\n",
    "dense3 = LayerNormalization(axis=1)(concatenate_layer)\n",
    "out4 = Dense(units=1, activation='linear', name='Output')(dense3)\n",
    "model = Model(inputs=[desc_flat_model.input, name_flat_model.input, \n",
    "                      cat_flat_model.input,ic_flat_model.input,\n",
    "                       sh_flat_model.input,is_flat_model.input, numeric_model.input],outputs=out4)\n",
    "X_train_inputs = [np.array(desc_text_train_padded), np.array(name_text_train_padded), np.array(cat_encoded_train),ic_train_enc,\n",
    "                      sh_train_enc, is_train_enc,x_train['count'].to_numpy().reshape(-1,1)]\n",
    "\n",
    "\n",
    "X_cv_inputs = [np.array(desc_text_cv_padded), np.array(name_text_cv_padded),np.array(cat_encoded_cv),ic_cv_enc,\n",
    "                     sh_cv_enc, is_cv_enc, x_cv['count'].to_numpy().reshape(-1,1)]\n",
    "\n",
    "\n",
    "X_test_inputs = [np.array(desc_text_test_padded), np.array(name_text_test_padded),np.array(cat_encoded_test),ic_test_enc,\n",
    "                     sh_test_enc, is_test_enc, x_test['count'].to_numpy().reshape(-1,1)]\n"
   ]
  },
  {
   "cell_type": "code",
   "execution_count": null,
   "metadata": {
    "id": "tpgu5ALvEPfi"
   },
   "outputs": [],
   "source": [
    "# For more info on EarlyStoppingdelCheckpoint, refer https://machinelearningmastery.com/how-to-stop-training-deep-neural-networks-at-the-right-time-using-early-stopping/\n",
    "from tensorflow.keras.callbacks import EarlyStopping\n",
    "earlystop = EarlyStopping(monitor='val_loss', verbose=1, patience=5)"
   ]
  },
  {
   "cell_type": "code",
   "execution_count": null,
   "metadata": {
    "id": "7H9qIwUFEPQm"
   },
   "outputs": [],
   "source": [
    "from tensorflow.keras.callbacks import ReduceLROnPlateau\n",
    "# https://stackoverflow.com/a/42963385/7697658\n",
    "lrschedule_1 = ReduceLROnPlateau(monitor='val_loss', patience=2, verbose=1, factor=0.70, mode='min')"
   ]
  },
  {
   "cell_type": "code",
   "execution_count": null,
   "metadata": {
    "id": "izIqujFrEPkF"
   },
   "outputs": [],
   "source": [
    "callbacks=[earlystop]\n",
    "epochs = 10\n",
    "BATCH_SIZE = 1024\n",
    "adam = Adam(learning_rate=0.003,epsilon=1e-08)\n",
    "model.compile(optimizer=adam, loss='mse', metrics=[tf.keras.metrics.RootMeanSquaredError()])\n",
    "model.fit(x=X_train_inputs,\n",
    "            y=np.array(y_tr).astype('float32').reshape(-1,1),batch_size=BATCH_SIZE, epochs=epochs, \n",
    "            verbose=True, validation_data=(X_cv_inputs, np.array(y_cv).astype('float32').reshape(-1,1)))"
   ]
  },
  {
   "cell_type": "code",
   "execution_count": null,
   "metadata": {
    "id": "kAOdQQsv5XhL"
   },
   "outputs": [],
   "source": [
    "cnn_preds = model.predict(X_test_inputs)\n"
   ]
  },
  {
   "cell_type": "code",
   "execution_count": null,
   "metadata": {
    "id": "byrLcJli5aKZ"
   },
   "outputs": [],
   "source": [
    "submission_final['price'] = np.exp(cnn_preds)+1\n",
    "submission_final.to_csv(\"submission_price_cnn.csv\", index=False)"
   ]
  },
  {
   "cell_type": "markdown",
   "metadata": {
    "id": "cwmOxdlhxqCG"
   },
   "source": [
    "# **CNN+LSTM model**"
   ]
  },
  {
   "cell_type": "markdown",
   "metadata": {
    "id": "p2gqKQcwXNpq"
   },
   "source": [
    "# **text features**"
   ]
  },
  {
   "cell_type": "code",
   "execution_count": null,
   "metadata": {
    "id": "Hpa9sLK4sNzU"
   },
   "outputs": [],
   "source": [
    "def text_model_lstm_pipeline(input_len, vocab_size, embedding_matrix,name):\n",
    "    #sub-model for the text data using embedding layer, 1D CNN, Maxpooling.\n",
    "    input_layer = Input(shape=input_len)\n",
    "    e_layer = Embedding(input_dim=vocab_size, output_dim=50, weights=[embedding_matrix], input_length=input_len, trainable=True)(input_layer)   \n",
    "    conv_1 = Conv1D(filters=128, kernel_size=3, strides=1, padding='same', kernel_initializer=initializers.glorot_normal(seed=0), \n",
    "                activation='relu', kernel_regularizer=regularizers.l2())(e_layer)\n",
    "    #conv_1 = MaxPool1D(pool_size=20, strides=1, padding='same')(conv_1)\n",
    "    #conv_1 = Flatten()(conv_1)\n",
    "    lstm = LSTM(units=16, name='lstm2'+name)(conv_1)\n",
    "    out = lstm\n",
    "    model = Model(inputs=input_layer ,outputs=out)\n",
    "    return model\n"
   ]
  },
  {
   "cell_type": "code",
   "execution_count": null,
   "metadata": {
    "id": "hGxftN0icF6R"
   },
   "outputs": [],
   "source": [
    "desc_flat_lstm_model = text_model_lstm_pipeline(desc_max_len_doc, desc_vocab_size, desc_embedding_matrix, name=\"desc\")\n",
    "name_flat_lstm_model = text_model_lstm_pipeline(name_max_len_doc, name_vocab_size, name_embedding_matrix, name=\"name\")"
   ]
  },
  {
   "cell_type": "code",
   "execution_count": null,
   "metadata": {
    "id": "5SCEvLoNxpMT"
   },
   "outputs": [],
   "source": [
    "#model refernce: https://www.kaggle.com/gspmoreira/cnn-glove-single-model-private-lb-0-41117-35th\n",
    "tf.keras.backend.clear_session()\n",
    "combined_layers = [desc_flat_lstm_model.output, name_flat_lstm_model.output, \n",
    "                       cat_flat_model.output,ic_flat_model.output,sh_flat_model.output,is_flat_model.output, numeric_model.output]\n",
    "concatenate_layer = Concatenate()(combined_layers)\n",
    "dense = BatchNormalization()(concatenate_layer)\n",
    "dense1 = Dense(units=256, activation='relu', kernel_regularizer=regularizers.l2(0.001),name=\"dense1\")(dense)\n",
    "dense2 = Dense(units=128, activation='relu', kernel_regularizer=regularizers.l2(0.001),name=\"dense2\")(dense1)\n",
    "concatenate_layer = Concatenate()([dense2, ic_flat_model.output, sh_flat_model.output,is_flat_model.output, numeric_model.output])\n",
    "dense3 = LayerNormalization(axis=1)(concatenate_layer)\n",
    "out4 = Dense(units=1, activation='linear', name='Output')(dense3)\n",
    "model3 = Model(inputs=[desc_flat_lstm_model.input, name_flat_lstm_model.input, \n",
    "                      cat_flat_model.input,ic_flat_model.input,\n",
    "                       sh_flat_model.input,is_flat_model.input, numeric_model.input],outputs=out4)\n",
    "X_train_inputs = [np.array(desc_text_train_padded), np.array(name_text_train_padded), np.array(cat_encoded_train),ic_train_enc,\n",
    "                      sh_train_enc, is_train_enc,pl_train_enc,x_train['count'].to_numpy().reshape(-1,1)]\n",
    "X_cv_inputs = [np.array(desc_text_cv_padded), np.array(name_text_cv_padded),np.array(cat_encoded_cv),ic_cv_enc,\n",
    "                     sh_cv_enc, is_cv_enc, x_cv['count'].to_numpy().reshape(-1,1)]                     \n",
    "X_test_inputs = [np.array(desc_text_test_padded), np.array(name_text_test_padded),np.array(cat_encoded_test),ic_test_enc,\n",
    "                     sh_test_enc, is_test_enc,pl_test_enc, x_test['count'].to_numpy().reshape(-1,1)]\n"
   ]
  },
  {
   "cell_type": "code",
   "execution_count": null,
   "metadata": {
    "id": "cxH2X6g6x-WN"
   },
   "outputs": [],
   "source": [
    "callbacks=[earlystop,lrschedule_1]\n",
    "epochs = 20\n",
    "BATCH_SIZE = 1024\n",
    "adam = Adam(learning_rate=0.01,epsilon=1e-08)\n",
    "model3.compile(optimizer=adam, loss='mse', metrics=[tf.keras.metrics.RootMeanSquaredError()])\n",
    "model3.fit(x=X_train_inputs,\n",
    "            y=np.array(y_tr).astype('float32').reshape(-1,1),batch_size=BATCH_SIZE, epochs=epochs, \n",
    "            verbose=True, validation_data=(X_test_inputs, np.array(y_cv).astype('float32').reshape(-1,1)), callbacks=[callbacks])"
   ]
  },
  {
   "cell_type": "code",
   "execution_count": null,
   "metadata": {
    "id": "sF_ySXLHdQWL"
   },
   "outputs": [],
   "source": [
    "cnn_lstm_preds = model3.predict(X_test_inputs)\n"
   ]
  },
  {
   "cell_type": "code",
   "execution_count": null,
   "metadata": {
    "id": "2NSos7W4dSqs"
   },
   "outputs": [],
   "source": [
    "submission_final['price'] = np.exp(cnn_lstm_preds)+1\n",
    "submission_final.to_csv(\"submission_price_cnn_lstm.csv\", index=False)"
   ]
  },
  {
   "cell_type": "markdown",
   "metadata": {
    "id": "Rqa0szDayC3k"
   },
   "source": [
    "# **ADABOOST**"
   ]
  },
  {
   "cell_type": "code",
   "execution_count": null,
   "metadata": {
    "id": "cultmdkWyFIC"
   },
   "outputs": [],
   "source": [
    "from sklearn.ensemble import AdaBoostRegressor\n",
    "from sklearn.datasets import make_regression\n",
    "X, y = make_regression(n_features=4, n_informative=2,\n",
    "                       random_state=0, shuffle=False)\n",
    "ada_reg = AdaBoostRegressor(random_state=1, n_estimators=10,learning_rate=0.001)\n",
    "ada_reg.fit(X_tr, y_tr)\n",
    "\n",
    "y_pred=ada_reg.predict(X_cv)\n",
    "\n",
    "lgbm_score = np.sqrt(mean_squared_error(y_cv, y_pred))\n",
    "print(lgbm_score)"
   ]
  },
  {
   "cell_type": "code",
   "execution_count": null,
   "metadata": {
    "id": "RgKyDWdKyFQJ"
   },
   "outputs": [],
   "source": [
    "preds_ada = ada_reg.predict(X_te)\n",
    "print(preds_ada)"
   ]
  },
  {
   "cell_type": "code",
   "execution_count": null,
   "metadata": {
    "id": "KstRHiiG6Ph4"
   },
   "outputs": [],
   "source": [
    "submission_final['price'] = np.expm1(preds_ada)\n",
    "submission_final.to_csv(\"submission_price_ada.csv\", index=False)"
   ]
  }
 ],
 "metadata": {
  "accelerator": "GPU",
  "colab": {
   "collapsed_sections": [],
   "machine_shape": "hm",
   "name": "Case_Study_1.ipynb",
   "private_outputs": true,
   "provenance": [],
   "toc_visible": true
  },
  "kernelspec": {
   "display_name": "Python 3",
   "language": "python",
   "name": "python3"
  },
  "language_info": {
   "codemirror_mode": {
    "name": "ipython",
    "version": 3
   },
   "file_extension": ".py",
   "mimetype": "text/x-python",
   "name": "python",
   "nbconvert_exporter": "python",
   "pygments_lexer": "ipython3",
   "version": "3.8.8"
  }
 },
 "nbformat": 4,
 "nbformat_minor": 4
}
