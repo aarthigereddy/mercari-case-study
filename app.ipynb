{
 "cells": [
  {
   "cell_type": "code",
   "execution_count": 20,
   "id": "af7ed323-acba-4918-972d-78552a15685a",
   "metadata": {},
   "outputs": [
    {
     "name": "stdout",
     "output_type": "stream",
     "text": [
      "Requirement already satisfied: flask in ./opt/anaconda3/lib/python3.8/site-packages (1.1.2)\n",
      "Requirement already satisfied: Werkzeug>=0.15 in ./opt/anaconda3/lib/python3.8/site-packages (from flask) (1.0.1)\n",
      "Requirement already satisfied: itsdangerous>=0.24 in ./opt/anaconda3/lib/python3.8/site-packages (from flask) (1.1.0)\n",
      "Requirement already satisfied: Jinja2>=2.10.1 in ./opt/anaconda3/lib/python3.8/site-packages (from flask) (2.11.3)\n",
      "Requirement already satisfied: click>=5.1 in ./opt/anaconda3/lib/python3.8/site-packages (from flask) (7.1.2)\n",
      "Requirement already satisfied: MarkupSafe>=0.23 in ./opt/anaconda3/lib/python3.8/site-packages (from Jinja2>=2.10.1->flask) (1.1.1)\n",
      "Note: you may need to restart the kernel to use updated packages.\n"
     ]
    }
   ],
   "source": [
    "!pip install flask\n",
    "import flask\n",
    "from flask import Flask, render_template,request\n"
   ]
  },
  {
   "cell_type": "code",
   "execution_count": 33,
   "id": "9f24e854-719e-4071-81d4-2d66fb8025b5",
   "metadata": {},
   "outputs": [
    {
     "name": "stderr",
     "output_type": "stream",
     "text": [
      "[nltk_data] Downloading package wordnet to\n",
      "[nltk_data]     /Users/agereddy/nltk_data...\n",
      "[nltk_data]   Package wordnet is already up-to-date!\n",
      "[nltk_data] Downloading package punkt to /Users/agereddy/nltk_data...\n",
      "[nltk_data]   Package punkt is already up-to-date!\n"
     ]
    }
   ],
   "source": [
    "import numpy as np\n",
    "import pandas as pd\n",
    "from sklearn import linear_model\n",
    "import joblib\n",
    "import re\n",
    "from sklearn.feature_extraction.text import CountVectorizer\n",
    "import nltk\n",
    "nltk.download('wordnet')\n",
    "nltk.download('punkt')\n",
    "from nltk.stem import WordNetLemmatizer\n",
    "from scipy.sparse import hstack\n",
    "\n",
    "from sklearn.preprocessing import LabelEncoder, MinMaxScaler, StandardScaler\n",
    "from sklearn.model_selection import train_test_split\n",
    "from sklearn.feature_extraction.text import TfidfVectorizer\n",
    "\n",
    "\n",
    "from nltk.tokenize import RegexpTokenizer\n",
    "from nltk.corpus import stopwords\n",
    "from tensorflow.keras.models import Model,load_model\n",
    "\n",
    "from keras.layers import Input, Dense, BatchNormalization, Activation\n",
    "from keras.models import Model\n",
    "from keras import backend as K\n",
    "from keras.optimizers import Adam\n",
    "from keras.callbacks import EarlyStopping,ModelCheckpoint\n",
    "from keras.layers import Dense, Dropout, Activation, Input\n",
    "from sklearn.metrics import mean_squared_log_error"
   ]
  },
  {
   "cell_type": "code",
   "execution_count": 34,
   "id": "6d7c320a-7b33-45fd-ae67-776f0610fd47",
   "metadata": {},
   "outputs": [],
   "source": [
    "app = Flask(__name__,template_folder=\"templates\")\n",
    "\n",
    "import pickle\n",
    "model = load_model('baseline_mlp_model_epochs:001-val_loss:0.183.hdf5')"
   ]
  },
  {
   "cell_type": "code",
   "execution_count": 35,
   "id": "f7b5b729-2410-460a-a113-a2d57104cb26",
   "metadata": {},
   "outputs": [],
   "source": [
    "def prediction(input_, model):\n",
    "    \"\"\"this function predicts the price basing on the trained model\"\"\"\n",
    "    batchsize = 256\n",
    "    preds = model.predict(input_.tocsr(), batch_size=batchsize)\n",
    "    preds = np.exp(preds)+1\n",
    "    return preds"
   ]
  },
  {
   "cell_type": "code",
   "execution_count": 36,
   "id": "0fb66cae-0d10-4432-a3d4-e784c0e5fc0e",
   "metadata": {},
   "outputs": [],
   "source": [
    "import math\n",
    "def handle_data(data):\n",
    "    def transform_category_name(category_name):\n",
    "        try:\n",
    "            main, sub1, sub2= category_name.split('/')\n",
    "            return main, sub1, sub2\n",
    "        except:\n",
    "            return ('missing', 'missing', 'missing')\n",
    "        \n",
    "    def branded(brand_name):\n",
    "        is_branded=[]\n",
    "        for i in data['brand_name']:\n",
    "            if i=='missing': \n",
    "                is_branded.append(0) \n",
    "            else: \n",
    "                is_branded.append(1)\n",
    "            return is_branded\n",
    "\n",
    "    if type(data)==type(pd.DataFrame()):   #checking if it is a dataframe or not\n",
    "        #data['category_name'].fillna(value='missing',inplace=True)\n",
    "        \n",
    "        #data['category_main'], data['category_sub1'], data['category_sub2'] = zip(*data['category_name'].apply(transform_category_name))\n",
    "        data['brand_name'].fillna(value='missing',inplace=True)\n",
    "        data['is_branded']=zip(*data['brand_name'].apply(branded))\n",
    "        data['item_description'].fillna(value='No description yet',inplace=True)\n",
    "        data['name']= data['name']\n",
    "        data['shipping']=data['shipping']\n",
    "        data['item_condition_id']=data['item_condition_id']\n",
    "        \n",
    "        if 'price' in data.columns:\n",
    "            return data[['name','item_description','brand_name','category_main','category_sub1','category_sub2','is_branded','shipping','item_condition_id','price']]\n",
    "        else:\n",
    "            return data[['name','item_description','brand_name','category_main','category_sub1','category_sub2','is_branded','shipping','item_condition_id']]\n",
    "        \n",
    "    else:      #if the given data is a data point\n",
    "       # if type(data['category_name'])==type(float()):  #checking for nan values in category_name\n",
    "            #data['category_name'].fillna(\"missing\",inplace=True)\n",
    "           # data['category_main'], data['category_sub1'], data['category_sub2'] = zip(*data['category_name'].apply(transform_category_name))\n",
    "\n",
    "        if type(data['brand_name'])==type(float()):     #checking for nan values in brand_name\n",
    "            data['brand_name'].fillna(\"missing\",inplace=True)\n",
    "            data['is_branded']=zip(*data['brand_name'].apply(branded))\n",
    "\n",
    "        if type(data['item_description'])==type(float()):  #checking for nan values in item_description\n",
    "            data['item_description'].fillna(\"No description yet\",inplace=True)\n",
    "            #data['category_main'], data['category_sub1'], data['category_sub2'] =data['category_name'].split('/')\n",
    "        if data['brand_name']=='missing': \n",
    "            data[\"is_branded\"]=0\n",
    "        else: \n",
    "            data[\"is_branded\"]=1\n",
    "        data['name']= data['name']\n",
    "        data['shipping']=data['shipping']\n",
    "        data['item_condition_id']=data['item_condition_id']\n",
    "\n",
    "        if 'price' in dict(data).keys():  #if price exits we will return it\n",
    "            return data[['name','item_description','brand_name','category_main','category_sub1','category_sub2','is_branded','shipping','item_condition_id','price']]\n",
    "        else:\n",
    "            return data[['name','item_description','brand_name','category_main','category_sub1','category_sub2','is_branded','shipping','item_condition_id']]\n",
    "    return False"
   ]
  },
  {
   "cell_type": "code",
   "execution_count": 37,
   "id": "ac931439-5cd8-41de-a38d-dfb0bb9b73f2",
   "metadata": {},
   "outputs": [],
   "source": [
    "def price_suggestion(X):\n",
    "\n",
    "    X=handle_data(X)          \n",
    "    if 'price' in dict(X).keys():\n",
    "        target=X['price']  #checking if price contains in it or not\n",
    "    else:\n",
    "        target='we predicted it'\n",
    "    vectorizer_name=pickle.load(open(\"vectorizer_name.pkl\",\"rb\"))\n",
    "    bow_name=vectorizer_name.transform(X['name'].values)  #name vectorization\n",
    "    \n",
    "    vectorizer_item=pickle.load(open(\"vectorizer_item.pkl\", 'rb'))\n",
    "    bow_item=vectorizer_item.transform(X['item_description'].values) \n",
    "\n",
    "    vectorizer_cat=pickle.load(open(\"vectorizer_cat.pkl\",\"rb\"))\n",
    "    bow_cat=vectorizer_cat.transform(X['category_main'].values) \n",
    "    \n",
    "    vectorizer_sub1=pickle.load(open(\"vectorizer_sub1.pkl\",\"rb\"))\n",
    "    bow_sub1=vectorizer_sub1.transform(X['category_sub1'].values)\n",
    "    #text vectorization\n",
    "    \n",
    "    vectorizer_sub2=pickle.load(open(\"vectorizer_sub2.pkl\",\"rb\"))\n",
    "    bow_sub2=vectorizer_sub2.transform(X['category_sub2'].values)\n",
    "    #text vectorization\n",
    "    \n",
    "    vectorizer_brand=pickle.load(open(\"vectorizer_brand.pkl\",\"rb\"))\n",
    "    bow_brand=vectorizer_brand.transform(X['brand_name'].values)  #text vectorization\n",
    "\n",
    "    is_brand_oe=pickle.load(open(\"is_branded_oe.pkl\",\"rb\"))\n",
    "    is_brand=is_brand_oe.transform(X[['is_branded']])\n",
    "    \n",
    "    item_cond_oe=pickle.load(open(\"item_cond.pkl\",\"rb\"))\n",
    "    item_cond=item_cond_oe.transform(X[['item_condition_id']])\n",
    "    \n",
    "    shipping_oe=pickle.load(open(\"shipping_oe.pkl\",\"rb\"))\n",
    "    shipping=shipping_oe.transform(X[['shipping']])\n",
    "    \n",
    "\n",
    "\n",
    "    concat=hstack([bow_name,bow_item,bow_cat,bow_sub1,bow_sub2,bow_brand,is_brand,item_cond,shipping])   #concatinating all the features\n",
    "    best_model = load_model('baseline_mlp_model_epochs:001-val_loss:0.183.hdf5')\n",
    "\n",
    "    #preds = best_model.predict(X_te.tocsr())[:, 0]\n",
    "    predicted_price=[prediction(concat,best_model)]  #storing all the prices predicted by the four models\n",
    "    return predicted_price,target  #ensembling taking mean out of four results."
   ]
  },
  {
   "cell_type": "code",
   "execution_count": 38,
   "id": "6d185532-f2f0-4375-ae3e-9e5850888e74",
   "metadata": {},
   "outputs": [],
   "source": [
    "@app.route('/')\n",
    "def index():\n",
    "    return flask.render_template('index.html')\n",
    "    #return {'x':1,'y':2}\n",
    "#To use the predict button in our web-app\n",
    "@app.route('/predict',methods=[\"GET\",\"POST\"])\n",
    "def predict():\n",
    "    #For rendering results on HTML GUI\n",
    "    data={}\n",
    "\n",
    "    if request.method == 'POST':\n",
    "        #form=request.form\n",
    "        data['name']=request.form.get(\"name\")\n",
    "        data['item_description']=request.form.get(\"description\")\n",
    "        data['category_main']=request.form.get(\"Category\")\n",
    "        data['category_sub1']=request.form.get(\"Sub-Category1\")\n",
    "        data['category_sub2']=request.form.get(\"Sub-Category2\")\n",
    "        data['brand_name']=request.form.get(\"Brand\")\n",
    "        data['is_branded']=request.form.get(\"Is-Branded\")\n",
    "        data['shipping']=request.form.get(\"Shipping\")\n",
    "        data['item_condition_id']=request.form.get(\"Item Condition\")\n",
    "    \n",
    "    df = pd.DataFrame([data], columns= ['name', 'item_description','category_main','category_sub1','category_sub2','brand_name','is_branded','shipping','item_condition_id']) \n",
    "    #features=[name,description,Category,Sub_Category1,Sub_Category2,Brand,Is_Branded,Shipping,Item_Condition]\n",
    "    #int_features = [float(x) for x in request.form.values()]\n",
    "    #final_features = [np.array(int_features)]\n",
    "    print(df)\n",
    "    predicted,target=price_suggestion(df)  #some random train data point.\n",
    "\n",
    "    output = round(predicted[0][0][0], 2) \n",
    "    return render_template('index.html', prediction_text='The price is :{}'.format(output))"
   ]
  },
  {
   "cell_type": "code",
   "execution_count": null,
   "id": "08b15359-8041-4571-82ba-d655d78263ef",
   "metadata": {},
   "outputs": [
    {
     "name": "stdout",
     "output_type": "stream",
     "text": [
      " * Serving Flask app \"__main__\" (lazy loading)\n",
      " * Environment: production\n",
      "\u001b[31m   WARNING: This is a development server. Do not use it in a production deployment.\u001b[0m\n",
      "\u001b[2m   Use a production WSGI server instead.\u001b[0m\n",
      " * Debug mode: off\n"
     ]
    },
    {
     "name": "stderr",
     "output_type": "stream",
     "text": [
      " * Running on http://127.0.0.1:5000/ (Press CTRL+C to quit)\n",
      "[2021-07-22 21:01:31,599] ERROR in app: Exception on / [GET]\n",
      "Traceback (most recent call last):\n",
      "  File \"/Users/agereddy/opt/anaconda3/lib/python3.8/site-packages/flask/app.py\", line 2447, in wsgi_app\n",
      "    response = self.full_dispatch_request()\n",
      "  File \"/Users/agereddy/opt/anaconda3/lib/python3.8/site-packages/flask/app.py\", line 1952, in full_dispatch_request\n",
      "    rv = self.handle_user_exception(e)\n",
      "  File \"/Users/agereddy/opt/anaconda3/lib/python3.8/site-packages/flask/app.py\", line 1821, in handle_user_exception\n",
      "    reraise(exc_type, exc_value, tb)\n",
      "  File \"/Users/agereddy/opt/anaconda3/lib/python3.8/site-packages/flask/_compat.py\", line 39, in reraise\n",
      "    raise value\n",
      "  File \"/Users/agereddy/opt/anaconda3/lib/python3.8/site-packages/flask/app.py\", line 1950, in full_dispatch_request\n",
      "    rv = self.dispatch_request()\n",
      "  File \"/Users/agereddy/opt/anaconda3/lib/python3.8/site-packages/flask/app.py\", line 1936, in dispatch_request\n",
      "    return self.view_functions[rule.endpoint](**req.view_args)\n",
      "  File \"<ipython-input-38-a72d53b6ee6a>\", line 3, in index\n",
      "    return flask.render_template('index.html')\n",
      "NameError: name 'flask' is not defined\n",
      "127.0.0.1 - - [22/Jul/2021 21:01:31] \"\u001b[35m\u001b[1mGET / HTTP/1.1\u001b[0m\" 500 -\n",
      "127.0.0.1 - - [22/Jul/2021 21:01:31] \"\u001b[33mGET /favicon.ico HTTP/1.1\u001b[0m\" 404 -\n"
     ]
    }
   ],
   "source": [
    "from werkzeug.wrappers import Request, Response\n",
    "\n",
    "if __name__ == '__main__':\n",
    "    #app.debug=True   \n",
    "    app.run(port=8081)\n",
    "    #app.run(host='localhost', port=8081)\n",
    "\n",
    "    \n",
    "       "
   ]
  },
  {
   "cell_type": "code",
   "execution_count": 29,
   "id": "ff6f855a-62a6-4fb1-8786-4d712eb1f705",
   "metadata": {},
   "outputs": [
    {
     "ename": "SyntaxError",
     "evalue": "invalid syntax (<ipython-input-29-d35c366f0e11>, line 1)",
     "output_type": "error",
     "traceback": [
      "\u001b[0;36m  File \u001b[0;32m\"<ipython-input-29-d35c366f0e11>\"\u001b[0;36m, line \u001b[0;32m1\u001b[0m\n\u001b[0;31m    python app.py runserver -d\u001b[0m\n\u001b[0m           ^\u001b[0m\n\u001b[0;31mSyntaxError\u001b[0m\u001b[0;31m:\u001b[0m invalid syntax\n"
     ]
    }
   ],
   "source": [
    "python app.py runserver -d\n"
   ]
  },
  {
   "cell_type": "code",
   "execution_count": null,
   "id": "2e31e7d3-6a09-4a8d-9b2c-a560520af121",
   "metadata": {},
   "outputs": [],
   "source": []
  }
 ],
 "metadata": {
  "kernelspec": {
   "display_name": "Python 3",
   "language": "python",
   "name": "python3"
  },
  "language_info": {
   "codemirror_mode": {
    "name": "ipython",
    "version": 3
   },
   "file_extension": ".py",
   "mimetype": "text/x-python",
   "name": "python",
   "nbconvert_exporter": "python",
   "pygments_lexer": "ipython3",
   "version": "3.8.8"
  }
 },
 "nbformat": 4,
 "nbformat_minor": 5
}
